{
 "cells": [
  {
   "cell_type": "markdown",
   "metadata": {},
   "source": [
    "# Hand Signs Dataset"
   ]
  },
  {
   "cell_type": "markdown",
   "metadata": {},
   "source": [
    "## Inroduction"
   ]
  },
  {
   "cell_type": "markdown",
   "metadata": {},
   "source": [
    "The following dataset shows the MNIST Signs Dataset with labels and pixel values in a single row.\n",
    "The American Sign Language letter database of hand gestures represent a multi-class problem with 24 classes of letters (excluding J and Z which require motion).\n",
    "<img src='american_sign_language.PNG'>"
   ]
  },
  {
   "cell_type": "markdown",
   "metadata": {},
   "source": [
    "## Data Overview"
   ]
  },
  {
   "cell_type": "markdown",
   "metadata": {},
   "source": [
    "The dataset format matches closely with the classic MNIST dataset.Each training and test case represents a label (0-25) as a one-to-one map for each alphabetic letter A-Z (and no cases for 9=J or 25=Z because of gesture motions). The training data (27,455 cases) and test data (7172 cases) are approximately half the size of the standard MNIST but otherwise similar with a header row of label, pixel1,pixel2....pixel784 which represent a single 28x28 pixel image with grayscale values between 0-255. The original hand gesture image data represented multiple users repeating the gesture against different backgrounds. \n",
    "<img src='sign.png'>"
   ]
  },
  {
   "cell_type": "markdown",
   "metadata": {},
   "source": [
    "## Content and Dataset description:\n",
    "Each image is 28 pixels in height and 28 pixels in width, for a total of 784 pixels in total. Each pixel has a single pixel-value associated with it, indicating the lightness or darkness of that pixel, with higher numbers meaning darker. This pixel-value is an integer between 0 and 255. The training and test data sets have 785 columns. The first column consists of the class labels (see above), and represents the article of clothing. The rest of the columns contain the pixel-values of the associated image.\n",
    "- To locate a pixel on the image, suppose that we have decomposed x as x = i * 28 + j, where i and j are integers between 0 and 27. The pixel is located on row i and column j of a 28 x 28 matrix.\n",
    "- For example, pixel31 indicates the pixel that is in the fourth column from the left, and the second row from the top.\n"
   ]
  },
  {
   "cell_type": "markdown",
   "metadata": {},
   "source": [
    "## Importing the libraries"
   ]
  },
  {
   "cell_type": "markdown",
   "metadata": {},
   "source": [
    "### numpy\n",
    "NumPy is the fundamental package for scientific computing with Python. It contains among other things:\n",
    "\n",
    " - a powerful N-dimensional array object\n",
    " - sophisticated (broadcasting) functions"
   ]
  },
  {
   "cell_type": "markdown",
   "metadata": {},
   "source": [
    "### pandas\n",
    "pandas is a Python package providing fast, flexible, and expressive data structures designed to make working with “relational” or “labeled” data both easy and intuitive. It aims to be the fundamental high-level building block for doing practical, real world data analysis in Python."
   ]
  },
  {
   "cell_type": "markdown",
   "metadata": {},
   "source": [
    "### matplotlib\n",
    "Matplotlib is a plotting library in Python, which produces 2D graphics in different interactive environments. In Matplotlib, you can draw different types of graphs, like line, scattered, bar, etc."
   ]
  },
  {
   "cell_type": "markdown",
   "metadata": {},
   "source": [
    "### seaborn\n",
    "Seaborn is a Python data visualization library based on matplotlib. It provides a high-level interface for drawing attractive and informative statistical graphics."
   ]
  },
  {
   "cell_type": "code",
   "execution_count": 2,
   "metadata": {
    "collapsed": true
   },
   "outputs": [],
   "source": [
    "import numpy as np\n",
    "import pandas as pd\n",
    "import seaborn as sns\n",
    "import matplotlib.pyplot as plt\n",
    "%matplotlib inline\n",
    "from sklearn.metrics import confusion_matrix , accuracy_score\n",
    "import datetime"
   ]
  },
  {
   "cell_type": "markdown",
   "metadata": {},
   "source": [
    "## Loading The Data"
   ]
  },
  {
   "cell_type": "code",
   "execution_count": 3,
   "metadata": {
    "collapsed": true
   },
   "outputs": [],
   "source": [
    "df=pd.read_csv('sign_mnist_train.csv')"
   ]
  },
  {
   "cell_type": "code",
   "execution_count": 3,
   "metadata": {
    "collapsed": false
   },
   "outputs": [
    {
     "data": {
      "text/plain": [
       "(27455, 785)"
      ]
     },
     "execution_count": 3,
     "metadata": {},
     "output_type": "execute_result"
    }
   ],
   "source": [
    "df.shape"
   ]
  },
  {
   "cell_type": "code",
   "execution_count": 4,
   "metadata": {
    "collapsed": false
   },
   "outputs": [
    {
     "data": {
      "text/html": [
       "<div>\n",
       "<style scoped>\n",
       "    .dataframe tbody tr th:only-of-type {\n",
       "        vertical-align: middle;\n",
       "    }\n",
       "\n",
       "    .dataframe tbody tr th {\n",
       "        vertical-align: top;\n",
       "    }\n",
       "\n",
       "    .dataframe thead th {\n",
       "        text-align: right;\n",
       "    }\n",
       "</style>\n",
       "<table border=\"1\" class=\"dataframe\">\n",
       "  <thead>\n",
       "    <tr style=\"text-align: right;\">\n",
       "      <th></th>\n",
       "      <th>label</th>\n",
       "      <th>pixel1</th>\n",
       "      <th>pixel2</th>\n",
       "      <th>pixel3</th>\n",
       "      <th>pixel4</th>\n",
       "      <th>pixel5</th>\n",
       "      <th>pixel6</th>\n",
       "      <th>pixel7</th>\n",
       "      <th>pixel8</th>\n",
       "      <th>pixel9</th>\n",
       "      <th>...</th>\n",
       "      <th>pixel775</th>\n",
       "      <th>pixel776</th>\n",
       "      <th>pixel777</th>\n",
       "      <th>pixel778</th>\n",
       "      <th>pixel779</th>\n",
       "      <th>pixel780</th>\n",
       "      <th>pixel781</th>\n",
       "      <th>pixel782</th>\n",
       "      <th>pixel783</th>\n",
       "      <th>pixel784</th>\n",
       "    </tr>\n",
       "  </thead>\n",
       "  <tbody>\n",
       "    <tr>\n",
       "      <th>0</th>\n",
       "      <td>3</td>\n",
       "      <td>107</td>\n",
       "      <td>118</td>\n",
       "      <td>127</td>\n",
       "      <td>134</td>\n",
       "      <td>139</td>\n",
       "      <td>143</td>\n",
       "      <td>146</td>\n",
       "      <td>150</td>\n",
       "      <td>153</td>\n",
       "      <td>...</td>\n",
       "      <td>207</td>\n",
       "      <td>207</td>\n",
       "      <td>207</td>\n",
       "      <td>207</td>\n",
       "      <td>206</td>\n",
       "      <td>206</td>\n",
       "      <td>206</td>\n",
       "      <td>204</td>\n",
       "      <td>203</td>\n",
       "      <td>202</td>\n",
       "    </tr>\n",
       "    <tr>\n",
       "      <th>1</th>\n",
       "      <td>6</td>\n",
       "      <td>155</td>\n",
       "      <td>157</td>\n",
       "      <td>156</td>\n",
       "      <td>156</td>\n",
       "      <td>156</td>\n",
       "      <td>157</td>\n",
       "      <td>156</td>\n",
       "      <td>158</td>\n",
       "      <td>158</td>\n",
       "      <td>...</td>\n",
       "      <td>69</td>\n",
       "      <td>149</td>\n",
       "      <td>128</td>\n",
       "      <td>87</td>\n",
       "      <td>94</td>\n",
       "      <td>163</td>\n",
       "      <td>175</td>\n",
       "      <td>103</td>\n",
       "      <td>135</td>\n",
       "      <td>149</td>\n",
       "    </tr>\n",
       "    <tr>\n",
       "      <th>2</th>\n",
       "      <td>2</td>\n",
       "      <td>187</td>\n",
       "      <td>188</td>\n",
       "      <td>188</td>\n",
       "      <td>187</td>\n",
       "      <td>187</td>\n",
       "      <td>186</td>\n",
       "      <td>187</td>\n",
       "      <td>188</td>\n",
       "      <td>187</td>\n",
       "      <td>...</td>\n",
       "      <td>202</td>\n",
       "      <td>201</td>\n",
       "      <td>200</td>\n",
       "      <td>199</td>\n",
       "      <td>198</td>\n",
       "      <td>199</td>\n",
       "      <td>198</td>\n",
       "      <td>195</td>\n",
       "      <td>194</td>\n",
       "      <td>195</td>\n",
       "    </tr>\n",
       "    <tr>\n",
       "      <th>3</th>\n",
       "      <td>2</td>\n",
       "      <td>211</td>\n",
       "      <td>211</td>\n",
       "      <td>212</td>\n",
       "      <td>212</td>\n",
       "      <td>211</td>\n",
       "      <td>210</td>\n",
       "      <td>211</td>\n",
       "      <td>210</td>\n",
       "      <td>210</td>\n",
       "      <td>...</td>\n",
       "      <td>235</td>\n",
       "      <td>234</td>\n",
       "      <td>233</td>\n",
       "      <td>231</td>\n",
       "      <td>230</td>\n",
       "      <td>226</td>\n",
       "      <td>225</td>\n",
       "      <td>222</td>\n",
       "      <td>229</td>\n",
       "      <td>163</td>\n",
       "    </tr>\n",
       "    <tr>\n",
       "      <th>4</th>\n",
       "      <td>13</td>\n",
       "      <td>164</td>\n",
       "      <td>167</td>\n",
       "      <td>170</td>\n",
       "      <td>172</td>\n",
       "      <td>176</td>\n",
       "      <td>179</td>\n",
       "      <td>180</td>\n",
       "      <td>184</td>\n",
       "      <td>185</td>\n",
       "      <td>...</td>\n",
       "      <td>92</td>\n",
       "      <td>105</td>\n",
       "      <td>105</td>\n",
       "      <td>108</td>\n",
       "      <td>133</td>\n",
       "      <td>163</td>\n",
       "      <td>157</td>\n",
       "      <td>163</td>\n",
       "      <td>164</td>\n",
       "      <td>179</td>\n",
       "    </tr>\n",
       "  </tbody>\n",
       "</table>\n",
       "<p>5 rows × 785 columns</p>\n",
       "</div>"
      ],
      "text/plain": [
       "   label  pixel1  pixel2  pixel3  pixel4  pixel5  pixel6  pixel7  pixel8  \\\n",
       "0      3     107     118     127     134     139     143     146     150   \n",
       "1      6     155     157     156     156     156     157     156     158   \n",
       "2      2     187     188     188     187     187     186     187     188   \n",
       "3      2     211     211     212     212     211     210     211     210   \n",
       "4     13     164     167     170     172     176     179     180     184   \n",
       "\n",
       "   pixel9    ...     pixel775  pixel776  pixel777  pixel778  pixel779  \\\n",
       "0     153    ...          207       207       207       207       206   \n",
       "1     158    ...           69       149       128        87        94   \n",
       "2     187    ...          202       201       200       199       198   \n",
       "3     210    ...          235       234       233       231       230   \n",
       "4     185    ...           92       105       105       108       133   \n",
       "\n",
       "   pixel780  pixel781  pixel782  pixel783  pixel784  \n",
       "0       206       206       204       203       202  \n",
       "1       163       175       103       135       149  \n",
       "2       199       198       195       194       195  \n",
       "3       226       225       222       229       163  \n",
       "4       163       157       163       164       179  \n",
       "\n",
       "[5 rows x 785 columns]"
      ]
     },
     "execution_count": 4,
     "metadata": {},
     "output_type": "execute_result"
    }
   ],
   "source": [
    "df.head()"
   ]
  },
  {
   "cell_type": "code",
   "execution_count": 5,
   "metadata": {
    "collapsed": false
   },
   "outputs": [
    {
     "data": {
      "text/html": [
       "<div>\n",
       "<style scoped>\n",
       "    .dataframe tbody tr th:only-of-type {\n",
       "        vertical-align: middle;\n",
       "    }\n",
       "\n",
       "    .dataframe tbody tr th {\n",
       "        vertical-align: top;\n",
       "    }\n",
       "\n",
       "    .dataframe thead th {\n",
       "        text-align: right;\n",
       "    }\n",
       "</style>\n",
       "<table border=\"1\" class=\"dataframe\">\n",
       "  <thead>\n",
       "    <tr style=\"text-align: right;\">\n",
       "      <th></th>\n",
       "      <th>label</th>\n",
       "      <th>pixel1</th>\n",
       "      <th>pixel2</th>\n",
       "      <th>pixel3</th>\n",
       "      <th>pixel4</th>\n",
       "      <th>pixel5</th>\n",
       "      <th>pixel6</th>\n",
       "      <th>pixel7</th>\n",
       "      <th>pixel8</th>\n",
       "      <th>pixel9</th>\n",
       "      <th>...</th>\n",
       "      <th>pixel775</th>\n",
       "      <th>pixel776</th>\n",
       "      <th>pixel777</th>\n",
       "      <th>pixel778</th>\n",
       "      <th>pixel779</th>\n",
       "      <th>pixel780</th>\n",
       "      <th>pixel781</th>\n",
       "      <th>pixel782</th>\n",
       "      <th>pixel783</th>\n",
       "      <th>pixel784</th>\n",
       "    </tr>\n",
       "  </thead>\n",
       "  <tbody>\n",
       "    <tr>\n",
       "      <th>count</th>\n",
       "      <td>27455.000000</td>\n",
       "      <td>27455.000000</td>\n",
       "      <td>27455.000000</td>\n",
       "      <td>27455.000000</td>\n",
       "      <td>27455.000000</td>\n",
       "      <td>27455.000000</td>\n",
       "      <td>27455.000000</td>\n",
       "      <td>27455.000000</td>\n",
       "      <td>27455.000000</td>\n",
       "      <td>27455.000000</td>\n",
       "      <td>...</td>\n",
       "      <td>27455.000000</td>\n",
       "      <td>27455.000000</td>\n",
       "      <td>27455.000000</td>\n",
       "      <td>27455.000000</td>\n",
       "      <td>27455.000000</td>\n",
       "      <td>27455.000000</td>\n",
       "      <td>27455.000000</td>\n",
       "      <td>27455.000000</td>\n",
       "      <td>27455.000000</td>\n",
       "      <td>27455.000000</td>\n",
       "    </tr>\n",
       "    <tr>\n",
       "      <th>mean</th>\n",
       "      <td>12.318813</td>\n",
       "      <td>145.419377</td>\n",
       "      <td>148.500273</td>\n",
       "      <td>151.247714</td>\n",
       "      <td>153.546531</td>\n",
       "      <td>156.210891</td>\n",
       "      <td>158.411255</td>\n",
       "      <td>160.472154</td>\n",
       "      <td>162.339683</td>\n",
       "      <td>163.954799</td>\n",
       "      <td>...</td>\n",
       "      <td>141.104863</td>\n",
       "      <td>147.495611</td>\n",
       "      <td>153.325806</td>\n",
       "      <td>159.125332</td>\n",
       "      <td>161.969259</td>\n",
       "      <td>162.736696</td>\n",
       "      <td>162.906137</td>\n",
       "      <td>161.966454</td>\n",
       "      <td>161.137898</td>\n",
       "      <td>159.824731</td>\n",
       "    </tr>\n",
       "    <tr>\n",
       "      <th>std</th>\n",
       "      <td>7.287552</td>\n",
       "      <td>41.358555</td>\n",
       "      <td>39.942152</td>\n",
       "      <td>39.056286</td>\n",
       "      <td>38.595247</td>\n",
       "      <td>37.111165</td>\n",
       "      <td>36.125579</td>\n",
       "      <td>35.016392</td>\n",
       "      <td>33.661998</td>\n",
       "      <td>32.651607</td>\n",
       "      <td>...</td>\n",
       "      <td>63.751194</td>\n",
       "      <td>65.512894</td>\n",
       "      <td>64.427412</td>\n",
       "      <td>63.708507</td>\n",
       "      <td>63.738316</td>\n",
       "      <td>63.444008</td>\n",
       "      <td>63.509210</td>\n",
       "      <td>63.298721</td>\n",
       "      <td>63.610415</td>\n",
       "      <td>64.396846</td>\n",
       "    </tr>\n",
       "    <tr>\n",
       "      <th>min</th>\n",
       "      <td>0.000000</td>\n",
       "      <td>0.000000</td>\n",
       "      <td>0.000000</td>\n",
       "      <td>0.000000</td>\n",
       "      <td>0.000000</td>\n",
       "      <td>0.000000</td>\n",
       "      <td>0.000000</td>\n",
       "      <td>0.000000</td>\n",
       "      <td>0.000000</td>\n",
       "      <td>0.000000</td>\n",
       "      <td>...</td>\n",
       "      <td>0.000000</td>\n",
       "      <td>0.000000</td>\n",
       "      <td>0.000000</td>\n",
       "      <td>0.000000</td>\n",
       "      <td>0.000000</td>\n",
       "      <td>0.000000</td>\n",
       "      <td>0.000000</td>\n",
       "      <td>0.000000</td>\n",
       "      <td>0.000000</td>\n",
       "      <td>0.000000</td>\n",
       "    </tr>\n",
       "    <tr>\n",
       "      <th>25%</th>\n",
       "      <td>6.000000</td>\n",
       "      <td>121.000000</td>\n",
       "      <td>126.000000</td>\n",
       "      <td>130.000000</td>\n",
       "      <td>133.000000</td>\n",
       "      <td>137.000000</td>\n",
       "      <td>140.000000</td>\n",
       "      <td>142.000000</td>\n",
       "      <td>144.000000</td>\n",
       "      <td>146.000000</td>\n",
       "      <td>...</td>\n",
       "      <td>92.000000</td>\n",
       "      <td>96.000000</td>\n",
       "      <td>103.000000</td>\n",
       "      <td>112.000000</td>\n",
       "      <td>120.000000</td>\n",
       "      <td>125.000000</td>\n",
       "      <td>128.000000</td>\n",
       "      <td>128.000000</td>\n",
       "      <td>128.000000</td>\n",
       "      <td>125.500000</td>\n",
       "    </tr>\n",
       "    <tr>\n",
       "      <th>50%</th>\n",
       "      <td>13.000000</td>\n",
       "      <td>150.000000</td>\n",
       "      <td>153.000000</td>\n",
       "      <td>156.000000</td>\n",
       "      <td>158.000000</td>\n",
       "      <td>160.000000</td>\n",
       "      <td>162.000000</td>\n",
       "      <td>164.000000</td>\n",
       "      <td>165.000000</td>\n",
       "      <td>166.000000</td>\n",
       "      <td>...</td>\n",
       "      <td>144.000000</td>\n",
       "      <td>162.000000</td>\n",
       "      <td>172.000000</td>\n",
       "      <td>180.000000</td>\n",
       "      <td>183.000000</td>\n",
       "      <td>184.000000</td>\n",
       "      <td>184.000000</td>\n",
       "      <td>182.000000</td>\n",
       "      <td>182.000000</td>\n",
       "      <td>182.000000</td>\n",
       "    </tr>\n",
       "    <tr>\n",
       "      <th>75%</th>\n",
       "      <td>19.000000</td>\n",
       "      <td>174.000000</td>\n",
       "      <td>176.000000</td>\n",
       "      <td>178.000000</td>\n",
       "      <td>179.000000</td>\n",
       "      <td>181.000000</td>\n",
       "      <td>182.000000</td>\n",
       "      <td>183.000000</td>\n",
       "      <td>184.000000</td>\n",
       "      <td>185.000000</td>\n",
       "      <td>...</td>\n",
       "      <td>196.000000</td>\n",
       "      <td>202.000000</td>\n",
       "      <td>205.000000</td>\n",
       "      <td>207.000000</td>\n",
       "      <td>208.000000</td>\n",
       "      <td>207.000000</td>\n",
       "      <td>207.000000</td>\n",
       "      <td>206.000000</td>\n",
       "      <td>204.000000</td>\n",
       "      <td>204.000000</td>\n",
       "    </tr>\n",
       "    <tr>\n",
       "      <th>max</th>\n",
       "      <td>24.000000</td>\n",
       "      <td>255.000000</td>\n",
       "      <td>255.000000</td>\n",
       "      <td>255.000000</td>\n",
       "      <td>255.000000</td>\n",
       "      <td>255.000000</td>\n",
       "      <td>255.000000</td>\n",
       "      <td>255.000000</td>\n",
       "      <td>255.000000</td>\n",
       "      <td>255.000000</td>\n",
       "      <td>...</td>\n",
       "      <td>255.000000</td>\n",
       "      <td>255.000000</td>\n",
       "      <td>255.000000</td>\n",
       "      <td>255.000000</td>\n",
       "      <td>255.000000</td>\n",
       "      <td>255.000000</td>\n",
       "      <td>255.000000</td>\n",
       "      <td>255.000000</td>\n",
       "      <td>255.000000</td>\n",
       "      <td>255.000000</td>\n",
       "    </tr>\n",
       "  </tbody>\n",
       "</table>\n",
       "<p>8 rows × 785 columns</p>\n",
       "</div>"
      ],
      "text/plain": [
       "              label        pixel1        pixel2        pixel3        pixel4  \\\n",
       "count  27455.000000  27455.000000  27455.000000  27455.000000  27455.000000   \n",
       "mean      12.318813    145.419377    148.500273    151.247714    153.546531   \n",
       "std        7.287552     41.358555     39.942152     39.056286     38.595247   \n",
       "min        0.000000      0.000000      0.000000      0.000000      0.000000   \n",
       "25%        6.000000    121.000000    126.000000    130.000000    133.000000   \n",
       "50%       13.000000    150.000000    153.000000    156.000000    158.000000   \n",
       "75%       19.000000    174.000000    176.000000    178.000000    179.000000   \n",
       "max       24.000000    255.000000    255.000000    255.000000    255.000000   \n",
       "\n",
       "             pixel5        pixel6        pixel7        pixel8        pixel9  \\\n",
       "count  27455.000000  27455.000000  27455.000000  27455.000000  27455.000000   \n",
       "mean     156.210891    158.411255    160.472154    162.339683    163.954799   \n",
       "std       37.111165     36.125579     35.016392     33.661998     32.651607   \n",
       "min        0.000000      0.000000      0.000000      0.000000      0.000000   \n",
       "25%      137.000000    140.000000    142.000000    144.000000    146.000000   \n",
       "50%      160.000000    162.000000    164.000000    165.000000    166.000000   \n",
       "75%      181.000000    182.000000    183.000000    184.000000    185.000000   \n",
       "max      255.000000    255.000000    255.000000    255.000000    255.000000   \n",
       "\n",
       "           ...           pixel775      pixel776      pixel777      pixel778  \\\n",
       "count      ...       27455.000000  27455.000000  27455.000000  27455.000000   \n",
       "mean       ...         141.104863    147.495611    153.325806    159.125332   \n",
       "std        ...          63.751194     65.512894     64.427412     63.708507   \n",
       "min        ...           0.000000      0.000000      0.000000      0.000000   \n",
       "25%        ...          92.000000     96.000000    103.000000    112.000000   \n",
       "50%        ...         144.000000    162.000000    172.000000    180.000000   \n",
       "75%        ...         196.000000    202.000000    205.000000    207.000000   \n",
       "max        ...         255.000000    255.000000    255.000000    255.000000   \n",
       "\n",
       "           pixel779      pixel780      pixel781      pixel782      pixel783  \\\n",
       "count  27455.000000  27455.000000  27455.000000  27455.000000  27455.000000   \n",
       "mean     161.969259    162.736696    162.906137    161.966454    161.137898   \n",
       "std       63.738316     63.444008     63.509210     63.298721     63.610415   \n",
       "min        0.000000      0.000000      0.000000      0.000000      0.000000   \n",
       "25%      120.000000    125.000000    128.000000    128.000000    128.000000   \n",
       "50%      183.000000    184.000000    184.000000    182.000000    182.000000   \n",
       "75%      208.000000    207.000000    207.000000    206.000000    204.000000   \n",
       "max      255.000000    255.000000    255.000000    255.000000    255.000000   \n",
       "\n",
       "           pixel784  \n",
       "count  27455.000000  \n",
       "mean     159.824731  \n",
       "std       64.396846  \n",
       "min        0.000000  \n",
       "25%      125.500000  \n",
       "50%      182.000000  \n",
       "75%      204.000000  \n",
       "max      255.000000  \n",
       "\n",
       "[8 rows x 785 columns]"
      ]
     },
     "execution_count": 5,
     "metadata": {},
     "output_type": "execute_result"
    }
   ],
   "source": [
    "df.describe()"
   ]
  },
  {
   "cell_type": "code",
   "execution_count": 4,
   "metadata": {
    "collapsed": false
   },
   "outputs": [],
   "source": [
    "# Slice the dataset. Save the first column as y(Target) and rest of the columns as X(Features).\n",
    "x=df.loc[:,df.columns!='label']\n",
    "y=df['label']"
   ]
  },
  {
   "cell_type": "code",
   "execution_count": 7,
   "metadata": {
    "collapsed": false
   },
   "outputs": [
    {
     "name": "stdout",
     "output_type": "stream",
     "text": [
      "(27455, 784)\n",
      "(27455,)\n",
      "<class 'pandas.core.frame.DataFrame'>\n"
     ]
    }
   ],
   "source": [
    "print(x.shape)\n",
    "print(y.shape)\n",
    "print(type(x))"
   ]
  },
  {
   "cell_type": "code",
   "execution_count": 5,
   "metadata": {
    "collapsed": false
   },
   "outputs": [
    {
     "name": "stdout",
     "output_type": "stream",
     "text": [
      "<class 'numpy.ndarray'>\n"
     ]
    }
   ],
   "source": [
    "x2=x.values\n",
    "print(type(x2))"
   ]
  },
  {
   "cell_type": "code",
   "execution_count": 6,
   "metadata": {
    "collapsed": true
   },
   "outputs": [],
   "source": [
    "y2=y.values"
   ]
  },
  {
   "cell_type": "code",
   "execution_count": 10,
   "metadata": {
    "collapsed": false
   },
   "outputs": [
    {
     "name": "stdout",
     "output_type": "stream",
     "text": [
      "<class 'pandas.core.frame.DataFrame'>\n",
      "RangeIndex: 27455 entries, 0 to 27454\n",
      "Columns: 785 entries, label to pixel784\n",
      "dtypes: int64(785)\n",
      "memory usage: 164.4 MB\n"
     ]
    }
   ],
   "source": [
    "df.info()"
   ]
  },
  {
   "cell_type": "code",
   "execution_count": 13,
   "metadata": {
    "collapsed": false
   },
   "outputs": [
    {
     "data": {
      "text/plain": [
       "17    1294\n",
       "16    1279\n",
       "11    1241\n",
       "22    1225\n",
       "5     1204\n",
       "18    1199\n",
       "14    1196\n",
       "3     1196\n",
       "19    1186\n",
       "23    1164\n",
       "8     1162\n",
       "20    1161\n",
       "13    1151\n",
       "2     1144\n",
       "0     1126\n",
       "24    1118\n",
       "10    1114\n",
       "6     1090\n",
       "15    1088\n",
       "21    1082\n",
       "12    1055\n",
       "7     1013\n",
       "1     1010\n",
       "4      957\n",
       "Name: label, dtype: int64"
      ]
     },
     "execution_count": 13,
     "metadata": {},
     "output_type": "execute_result"
    }
   ],
   "source": [
    "df.label.value_counts()"
   ]
  },
  {
   "cell_type": "code",
   "execution_count": 14,
   "metadata": {
    "collapsed": false
   },
   "outputs": [
    {
     "data": {
      "text/plain": [
       "<matplotlib.axes._subplots.AxesSubplot at 0x1ab598ac080>"
      ]
     },
     "execution_count": 14,
     "metadata": {},
     "output_type": "execute_result"
    },
    {
     "data": {
      "image/png": "[encoded data removed]",
      "text/plain": [
       "<Figure size 432x288 with 1 Axes>"
      ]
     },
     "metadata": {},
     "output_type": "display_data"
    }
   ],
   "source": [
    "sns.kdeplot(y,shade=True)"
   ]
  },
  {
   "cell_type": "code",
   "execution_count": 15,
   "metadata": {
    "collapsed": false
   },
   "outputs": [
    {
     "data": {
      "image/png": "[encoded data removed]",
      "text/plain": [
       "<Figure size 1440x288 with 6 Axes>"
      ]
     },
     "metadata": {},
     "output_type": "display_data"
    }
   ],
   "source": [
    "plt.figure(figsize = (20,4))\n",
    "for index , (image,label) in enumerate(zip(x2[0:6] , y2[0:6])):\n",
    "  plt.subplot(1,6,index+1)\n",
    "  plt.imshow(np.reshape(image , (28,28)) , cmap = plt.cm.gray)"
   ]
  },
  {
   "cell_type": "code",
   "execution_count": 16,
   "metadata": {
    "collapsed": false
   },
   "outputs": [
    {
     "data": {
      "text/plain": [
       "<matplotlib.image.AxesImage at 0x1ab000630f0>"
      ]
     },
     "execution_count": 16,
     "metadata": {},
     "output_type": "execute_result"
    },
    {
     "data": {
      "image/png": "[encoded data removed]",
      "text/plain": [
       "<Figure size 432x288 with 1 Axes>"
      ]
     },
     "metadata": {},
     "output_type": "display_data"
    }
   ],
   "source": [
    "imag=x2[27427]\n",
    "imag.shape=(28,28)\n",
    "plt.subplot(1,1,1)\n",
    "plt.imshow(imag,cmap=plt.cm.gray)"
   ]
  },
  {
   "cell_type": "markdown",
   "metadata": {},
   "source": [
    "## Train-Test Split"
   ]
  },
  {
   "cell_type": "markdown",
   "metadata": {},
   "source": [
    "## x_train :\n",
    "    The dataset over which the model will be trained upon. Our classifier models will be trained on this data.\n",
    "\n",
    "## y_train :\n",
    "    This is the labelled dataset corresponding to the x_train, this contains the target labels corresponding to the Images of the dataset.\n",
    "\n",
    "## x_test :\n",
    "    This is the dataset kept aside to test the Machine Learning model trained upon the Dataset x_train, so that out model will have unseen data to predict and test upon.\n",
    "\n",
    "## y_test :\n",
    "    This is the labelled dataset corresponding to the x_train, this contains the target labels corresponding to the Images of the dataset."
   ]
  },
  {
   "cell_type": "code",
   "execution_count": 6,
   "metadata": {
    "collapsed": true
   },
   "outputs": [],
   "source": [
    "from sklearn.model_selection import train_test_split\n",
    "train_x , test_x , train_y , test_y = train_test_split(x2 , y2 , test_size = 0.3 , random_state =0)"
   ]
  },
  {
   "cell_type": "markdown",
   "metadata": {},
   "source": [
    "## Dimensionality Reduction"
   ]
  },
  {
   "cell_type": "markdown",
   "metadata": {},
   "source": [
    "Dimensionality Reduction is the technique of representing multi-dimensional(data with multiple features having a correlation with each other) data in 2 or 3 dimensions. Having too many features in the training set can make the process extremely slow and is not able to give a good solution."
   ]
  },
  {
   "cell_type": "markdown",
   "metadata": {},
   "source": [
    "## PCA (Principal Component Analysis)\n",
    "PCA is a dimensionality reduction technique that can be used for data compression to speed up learning algorithms as well as for visualizations of complex datasets."
   ]
  },
  {
   "cell_type": "code",
   "execution_count": 18,
   "metadata": {
    "collapsed": true
   },
   "outputs": [],
   "source": [
    "from sklearn import decomposition\n",
    "pca = decomposition.PCA()"
   ]
  },
  {
   "cell_type": "code",
   "execution_count": 19,
   "metadata": {
    "collapsed": false
   },
   "outputs": [
    {
     "name": "stdout",
     "output_type": "stream",
     "text": [
      "Reduced PCA shape =  (27455, 2)\n"
     ]
    }
   ],
   "source": [
    "pca.n_components = 2\n",
    "pca_data = pca.fit_transform(x)\n",
    "\n",
    "print(\"Reduced PCA shape = \", pca_data.shape)"
   ]
  },
  {
   "cell_type": "code",
   "execution_count": 20,
   "metadata": {
    "collapsed": false
   },
   "outputs": [
    {
     "data": {
      "image/png": "[encoded data removed]",
      "text/plain": [
       "<Figure size 418.25x360 with 1 Axes>"
      ]
     },
     "metadata": {},
     "output_type": "display_data"
    }
   ],
   "source": [
    "# attaching the label for each 2-d data point \n",
    "pca_dat = np.vstack((pca_data.T, y)).T\n",
    "\n",
    "pca_df = pd.DataFrame(data=pca_dat, columns=(\"1st_principal\", \"2nd_principal\", \"label\"))\n",
    "sns.lmplot('1st_principal', '2nd_principal', data=pca_df, hue='label', fit_reg=False)\n",
    "plt.show()"
   ]
  },
  {
   "cell_type": "markdown",
   "metadata": {},
   "source": [
    "### Observation:\n",
    "PCA is a good choice for dimensionality reduction and visualisation for datasets when we have large number of features but it will not be able to interpret complex polynomial relationship bewteen features."
   ]
  },
  {
   "cell_type": "markdown",
   "metadata": {},
   "source": [
    "### Comparing the images before and after applying the PCA¶\n"
   ]
  },
  {
   "cell_type": "code",
   "execution_count": 22,
   "metadata": {
    "collapsed": false
   },
   "outputs": [
    {
     "data": {
      "image/png": "[encoded data removed]",
      "text/plain": [
       "<Figure size 432x288 with 2 Axes>"
      ]
     },
     "metadata": {},
     "output_type": "display_data"
    }
   ],
   "source": [
    "import matplotlib\n",
    "imag = x2[7]\n",
    "imag.shape = (28,28)\n",
    "\n",
    "\n",
    "a = plt.subplot(1,2,1)\n",
    "a.set_title('Original Image')\n",
    "plt.imshow(imag,cmap=plt.cm.gray)\n",
    "plt.axis(\"off\")\n",
    "\n",
    "imag = pca.inverse_transform(pca_data[7])\n",
    "imag.shape = (28,28)\n",
    "\n",
    "b = plt.subplot(1,2,2)\n",
    "b.set_title(\"Reduced after PCA\")\n",
    "plt.imshow(imag,cmap=plt.cm.gray)\n",
    "plt.axis(\"off\")\n",
    "plt.show()\n"
   ]
  },
  {
   "cell_type": "markdown",
   "metadata": {},
   "source": [
    "## t-SNE (T-Distributed Stochastic Neighbouring Entities)\n",
    "t-Distributed Stochastic Neighbor Embedding (t-SNE) is another technique for dimensionality reduction and is particularly well suited for the visualization of high-dimensional datasets. Contrary to PCA it is not a mathematical technique but a probablistic one."
   ]
  },
  {
   "cell_type": "code",
   "execution_count": 8,
   "metadata": {
    "collapsed": false
   },
   "outputs": [
    {
     "name": "stdout",
     "output_type": "stream",
     "text": [
      "(27455, 2)\n"
     ]
    }
   ],
   "source": [
    "from sklearn.manifold import TSNE\n",
    "tsne=TSNE(n_components=2).fit_transform(x)\n",
    "#TSNE=tsne.fit_transform(x)\n",
    "print(tsne.shape)"
   ]
  },
  {
   "cell_type": "code",
   "execution_count": 10,
   "metadata": {
    "collapsed": false
   },
   "outputs": [
    {
     "data": {
      "image/png": "[encoded data removed]",
      "text/plain": [
       "<Figure size 418.25x360 with 1 Axes>"
      ]
     },
     "metadata": {},
     "output_type": "display_data"
    }
   ],
   "source": [
    "tsne_data = np.vstack((tsne.T, y)).T\n",
    "tsne_df = pd.DataFrame(data=tsne_data, columns=(\"1st_principal\", \"2nd_principal\", \"label\"))\n",
    "sns.lmplot('1st_principal', '2nd_principal', data=tsne_df, hue='label', fit_reg=False)\n",
    "plt.show()"
   ]
  },
  {
   "cell_type": "markdown",
   "metadata": {},
   "source": [
    "This is a significant improved visualization over the PCA visualization.\n",
    "\n",
    "t-SNE scales quadratically in the number of objects N, its applicability is limited to data sets with only a few thousand input objects; beyond that, learning becomes too slow to be practical and the memory requirements become too large.\n"
   ]
  },
  {
   "cell_type": "markdown",
   "metadata": {},
   "source": [
    "# Data Modelling"
   ]
  },
  {
   "cell_type": "markdown",
   "metadata": {},
   "source": [
    "## Logistic Regression\n",
    "Logistic Regression is a method for classifying data into discrete outcomes."
   ]
  },
  {
   "cell_type": "code",
   "execution_count": 11,
   "metadata": {
    "collapsed": false
   },
   "outputs": [
    {
     "name": "stdout",
     "output_type": "stream",
     "text": [
      "Training Time= 0:03:21.370619\n"
     ]
    }
   ],
   "source": [
    "from sklearn.linear_model import LogisticRegression\n",
    "model = LogisticRegression()\n",
    "\n",
    "ini = datetime.datetime.now()\n",
    "model.fit(train_x , train_y)\n",
    "fin = datetime.datetime.now()\n",
    "log_train_time = fin - ini\n",
    "print('Training Time=',log_train_time)\n"
   ]
  },
  {
   "cell_type": "code",
   "execution_count": 12,
   "metadata": {
    "collapsed": false
   },
   "outputs": [
    {
     "name": "stdout",
     "output_type": "stream",
     "text": [
      "Pred. Test Time= 0:00:00.323947\n"
     ]
    }
   ],
   "source": [
    "start=datetime.datetime.now()\n",
    "pred_y = model.predict(test_x)\n",
    "end = datetime.datetime.now()\n",
    "log_pred_test_time = end - start\n",
    "print('Pred. Test Time=',log_pred_test_time)"
   ]
  },
  {
   "cell_type": "code",
   "execution_count": 13,
   "metadata": {
    "collapsed": false
   },
   "outputs": [
    {
     "name": "stdout",
     "output_type": "stream",
     "text": [
      "      Actual  Predicted\n",
      "0         15         15\n",
      "1          0          0\n",
      "2         15         15\n",
      "3          6          6\n",
      "4          0          0\n",
      "5         15         15\n",
      "6          8          8\n",
      "7         17         17\n",
      "8         23         23\n",
      "9          4          4\n",
      "10        19         19\n",
      "11         6          6\n",
      "12         2          2\n",
      "13         1          1\n",
      "14        22         22\n",
      "15        10         10\n",
      "16        19         19\n",
      "17        15         15\n",
      "18        21         21\n",
      "19         6          6\n",
      "20        15         15\n",
      "21        12         12\n",
      "22        16         16\n",
      "23         6          6\n",
      "24        14         14\n",
      "25        16         16\n",
      "26        14         14\n",
      "27        10         10\n",
      "28        11         11\n",
      "29        17         17\n",
      "...      ...        ...\n",
      "8207      19         19\n",
      "8208      15         15\n",
      "8209      19         19\n",
      "8210      18         18\n",
      "8211       6          6\n",
      "8212      17         17\n",
      "8213      13         13\n",
      "8214      23         23\n",
      "8215       2          2\n",
      "8216      19         19\n",
      "8217      14         14\n",
      "8218       0          0\n",
      "8219      17         17\n",
      "8220      11         11\n",
      "8221       0          0\n",
      "8222      14         14\n",
      "8223      20         20\n",
      "8224       7          7\n",
      "8225       0          0\n",
      "8226       5          5\n",
      "8227       6          6\n",
      "8228      18         18\n",
      "8229       0          0\n",
      "8230      18         18\n",
      "8231      17         17\n",
      "8232      20         20\n",
      "8233      21         21\n",
      "8234      16         16\n",
      "8235       8          8\n",
      "8236      22         22\n",
      "\n",
      "[8237 rows x 2 columns]\n"
     ]
    }
   ],
   "source": [
    "d = {'Actual' : test_y , 'Predicted' : pred_y}\n",
    "out = pd.DataFrame(data = d)\n",
    "print(out)"
   ]
  },
  {
   "cell_type": "code",
   "execution_count": 14,
   "metadata": {
    "collapsed": false
   },
   "outputs": [
    {
     "name": "stdout",
     "output_type": "stream",
     "text": [
      "Accuracy Score= 1.0\n"
     ]
    }
   ],
   "source": [
    "print('Accuracy Score=',accuracy_score(test_y ,pred_y))"
   ]
  },
  {
   "cell_type": "code",
   "execution_count": 16,
   "metadata": {
    "collapsed": false
   },
   "outputs": [
    {
     "name": "stdout",
     "output_type": "stream",
     "text": [
      "Confusion Matrix\n",
      "[[340   0   0   0   0   0   0   0   0   0   0   0   0   0   0   0   0   0\n",
      "    0   0   0   0   0   0]\n",
      " [  0 304   0   0   0   0   0   0   0   0   0   0   0   0   0   0   0   0\n",
      "    0   0   0   0   0   0]\n",
      " [  0   0 337   0   0   0   0   0   0   0   0   0   0   0   0   0   0   0\n",
      "    0   0   0   0   0   0]\n",
      " [  0   0   0 385   0   0   0   0   0   0   0   0   0   0   0   0   0   0\n",
      "    0   0   0   0   0   0]\n",
      " [  0   0   0   0 295   0   0   0   0   0   0   0   0   0   0   0   0   0\n",
      "    0   0   0   0   0   0]\n",
      " [  0   0   0   0   0 357   0   0   0   0   0   0   0   0   0   0   0   0\n",
      "    0   0   0   0   0   0]\n",
      " [  0   0   0   0   0   0 331   0   0   0   0   0   0   0   0   0   0   0\n",
      "    0   0   0   0   0   0]\n",
      " [  0   0   0   0   0   0   0 304   0   0   0   0   0   0   0   0   0   0\n",
      "    0   0   0   0   0   0]\n",
      " [  0   0   0   0   0   0   0   0 327   0   0   0   0   0   0   0   0   0\n",
      "    0   0   0   0   0   0]\n",
      " [  0   0   0   0   0   0   0   0   0 306   0   0   0   0   0   0   0   0\n",
      "    0   0   0   0   0   0]\n",
      " [  0   0   0   0   0   0   0   0   0   0 358   0   0   0   0   0   0   0\n",
      "    0   0   0   0   0   0]\n",
      " [  0   0   0   0   0   0   0   0   0   0   0 317   0   0   0   0   0   0\n",
      "    0   0   0   0   0   0]\n",
      " [  0   0   0   0   0   0   0   0   0   0   0   0 366   0   0   0   0   0\n",
      "    0   0   0   0   0   0]\n",
      " [  0   0   0   0   0   0   0   0   0   0   0   0   0 357   0   0   0   0\n",
      "    0   0   0   0   0   0]\n",
      " [  0   0   0   0   0   0   0   0   0   0   0   0   0   0 339   0   0   0\n",
      "    0   0   0   0   0   0]\n",
      " [  0   0   0   0   0   0   0   0   0   0   0   0   0   0   0 365   0   0\n",
      "    0   0   0   0   0   0]\n",
      " [  0   0   0   0   0   0   0   0   0   0   0   0   0   0   0   0 414   0\n",
      "    0   0   0   0   0   0]\n",
      " [  0   0   0   0   0   0   0   0   0   0   0   0   0   0   0   0   0 370\n",
      "    0   0   0   0   0   0]\n",
      " [  0   0   0   0   0   0   0   0   0   0   0   0   0   0   0   0   0   0\n",
      "  346   0   0   0   0   0]\n",
      " [  0   0   0   0   0   0   0   0   0   0   0   0   0   0   0   0   0   0\n",
      "    0 342   0   0   0   0]\n",
      " [  0   0   0   0   0   0   0   0   0   0   0   0   0   0   0   0   0   0\n",
      "    0   0 349   0   0   0]\n",
      " [  0   0   0   0   0   0   0   0   0   0   0   0   0   0   0   0   0   0\n",
      "    0   0   0 340   0   0]\n",
      " [  0   0   0   0   0   0   0   0   0   0   0   0   0   0   0   0   0   0\n",
      "    0   0   0   0 348   0]\n",
      " [  0   0   0   0   0   0   0   0   0   0   0   0   0   0   0   0   0   0\n",
      "    0   0   0   0   0 340]]\n"
     ]
    },
    {
     "data": {
      "image/png": "[encoded data removed]",
      "text/plain": [
       "<Figure size 288x288 with 1 Axes>"
      ]
     },
     "metadata": {},
     "output_type": "display_data"
    }
   ],
   "source": [
    "print('Confusion Matrix')\n",
    "print(confusion_matrix(test_y ,pred_y))\n",
    "plt.matshow(confusion_matrix(test_y ,pred_y) , cmap = plt.cm.gray, )\n",
    "plt.show()"
   ]
  },
  {
   "cell_type": "markdown",
   "metadata": {},
   "source": [
    "## Naive Baye's"
   ]
  },
  {
   "cell_type": "markdown",
   "metadata": {},
   "source": [
    "### Gaussian Naive Baye's"
   ]
  },
  {
   "cell_type": "code",
   "execution_count": 17,
   "metadata": {
    "collapsed": false
   },
   "outputs": [
    {
     "name": "stdout",
     "output_type": "stream",
     "text": [
      "Training Time= 0:00:00.447201\n"
     ]
    }
   ],
   "source": [
    "from sklearn.naive_bayes import GaussianNB\n",
    "model1 = GaussianNB()\n",
    "\n",
    "ini=datetime.datetime.now()\n",
    "model1.fit(train_x , train_y)\n",
    "fin = datetime.datetime.now()\n",
    "nbg_train_time = fin - ini\n",
    "print('Training Time=',nbg_train_time)"
   ]
  },
  {
   "cell_type": "code",
   "execution_count": 18,
   "metadata": {
    "collapsed": false
   },
   "outputs": [
    {
     "name": "stdout",
     "output_type": "stream",
     "text": [
      "Pred. Test Time= 0:00:02.351827\n"
     ]
    }
   ],
   "source": [
    "start=datetime.datetime.now()\n",
    "pred_y = model1.predict(test_x)\n",
    "end = datetime.datetime.now()\n",
    "nbg_pred_test_time = end - start\n",
    "print('Pred. Test Time=',nbg_pred_test_time)"
   ]
  },
  {
   "cell_type": "code",
   "execution_count": 19,
   "metadata": {
    "collapsed": false
   },
   "outputs": [
    {
     "name": "stdout",
     "output_type": "stream",
     "text": [
      "      Actual  Predicted\n",
      "0         15         15\n",
      "1          0          4\n",
      "2         15         22\n",
      "3          6          6\n",
      "4          0          0\n",
      "5         15         15\n",
      "6          8          8\n",
      "7         17         17\n",
      "8         23         23\n",
      "9          4          4\n",
      "10        19         19\n",
      "11         6         19\n",
      "12         2         14\n",
      "13         1          5\n",
      "14        22         21\n",
      "15        10         10\n",
      "16        19         19\n",
      "17        15         15\n",
      "18        21         17\n",
      "19         6         19\n",
      "20        15         15\n",
      "21        12         12\n",
      "22        16         16\n",
      "23         6          5\n",
      "24        14         14\n",
      "25        16          7\n",
      "26        14         14\n",
      "27        10         17\n",
      "28        11         11\n",
      "29        17         17\n",
      "...      ...        ...\n",
      "8207      19         19\n",
      "8208      15         15\n",
      "8209      19         19\n",
      "8210      18         15\n",
      "8211       6         15\n",
      "8212      17         17\n",
      "8213      13         13\n",
      "8214      23         23\n",
      "8215       2         14\n",
      "8216      19         19\n",
      "8217      14         14\n",
      "8218       0         16\n",
      "8219      17          8\n",
      "8220      11         11\n",
      "8221       0          0\n",
      "8222      14         14\n",
      "8223      20         10\n",
      "8224       7         19\n",
      "8225       0          8\n",
      "8226       5         19\n",
      "8227       6         11\n",
      "8228      18         18\n",
      "8229       0          0\n",
      "8230      18          4\n",
      "8231      17         17\n",
      "8232      20         24\n",
      "8233      21         21\n",
      "8234      16         16\n",
      "8235       8         22\n",
      "8236      22         22\n",
      "\n",
      "[8237 rows x 2 columns]\n"
     ]
    }
   ],
   "source": [
    "d = {'Actual' : test_y , 'Predicted' : pred_y}\n",
    "out = pd.DataFrame(data = d)\n",
    "print(out)"
   ]
  },
  {
   "cell_type": "code",
   "execution_count": 20,
   "metadata": {
    "collapsed": false
   },
   "outputs": [
    {
     "name": "stdout",
     "output_type": "stream",
     "text": [
      "Accuracy Score= 0.4490712638096394\n"
     ]
    }
   ],
   "source": [
    "print('Accuracy Score=',accuracy_score(test_y ,pred_y))"
   ]
  },
  {
   "cell_type": "code",
   "execution_count": 21,
   "metadata": {
    "collapsed": false
   },
   "outputs": [
    {
     "name": "stdout",
     "output_type": "stream",
     "text": [
      "Confusion Matrix\n",
      "[[154   0   0   0  36   0   0   0  20  17   0  15   5  16  29  12   0  34\n",
      "    0   0   0   0   2   0]\n",
      " [  0 141   0   0  18  12   0   0  32  34   0   0   1   0  32   2  15   8\n",
      "    0   4   0   5   0   0]\n",
      " [  0   0 264   0   1   3   8   0   0   3   2   0   0  25   7   9   0   0\n",
      "   15   0   0   0   0   0]\n",
      " [  0   6   0 162  16  10   0   0  42  41   0   0   1   0  20  11  27  14\n",
      "    9   5  10   1   6   4]\n",
      " [ 15   0   0   0 186   0   0   0   3   1   0  22   4   8   7  17   0  19\n",
      "    3   4   0   1   5   0]\n",
      " [  1   2   3   2   5 128  16   0  10  18  10   0   0  23  26  15  19   1\n",
      "   56   0  11   3   8   0]\n",
      " [  0   0   3   2   0  18 168  20   6   3  17   0   0   2   8  12   6   0\n",
      "   63   1   0   0   2   0]\n",
      " [  0   0   0  10   0   4  52 115   1  22   1   0   0   2  11  11   0   0\n",
      "   58   2   8   1   0   6]\n",
      " [ 10   0   0   4   0  11   4   0 206  14   0   4   1   4  11   3  12   8\n",
      "    7   1   9  10   5   3]\n",
      " [  0   3   0   0   0   0   0   0   8 156   2   0   0   0  26   1  60   0\n",
      "    4   4  31   5   0   6]\n",
      " [  0   0   0   0   0   7   1   6   3   6 197   0   0   1  18   1  22   3\n",
      "   63   4  10   1  10   5]\n",
      " [ 15   0   0   3  32   0   0   0  20  20   0 118  11  14  12  21   2  37\n",
      "    1   0   1   6   1   3]\n",
      " [  4   0   0   5  43   2   0   3   6  25   0  63  94  21  23  13  10  32\n",
      "   11   1   0   6   4   0]\n",
      " [  0   0  10   1  19   1   2   7   2   1   0  11   5 227   7  33   0   2\n",
      "   27   0   0   0   1   1]\n",
      " [  0   0   0   1   0   0   0   2  18   0   3   2   0   0 248   9  13   7\n",
      "    0   0  10  11   4  11]\n",
      " [  0   0   0   2   0   1   0   6   1   4   0   9  30   7  43 205   2   7\n",
      "   24   0   3   3  16   2]\n",
      " [  0   0   0   9   0   1   0   9  38  51  14   0   0   0  13   0 174   5\n",
      "   12  18  56   6   1   7]\n",
      " [  7   1   0   0  42   1   0   0  36   7   0  44   3  32  35  15   6 125\n",
      "    1   1   8   6   0   0]\n",
      " [  0   0   1   1   0  13  12   8   0   9  11   0   0   4  11  12   3   0\n",
      "  245   0   0   0  16   0]\n",
      " [  0  10   0  13   0   7   0   5  24  26  13   0   0   0  35   5 104   0\n",
      "   28  34  26   3   4   5]\n",
      " [  0   2   0   5   0   8   4   2  37  17  19   0   0   0  29   1  48   5\n",
      "   34  15 109   3   6   5]\n",
      " [  0  10   0   0   0   4   0   5  12  50   3   0   0   0  44   0  87   6\n",
      "    4   7  79  18   5   6]\n",
      " [  0   0   0  17   0   2   0   2  21  16   4   7   7   0  27  26  25  15\n",
      "   59   0  11   1 104   4]\n",
      " [  1   0   0   5   0   8   0   3  40  28   6   0   0   0  25   9  34   7\n",
      "   30   4   8   7   4 121]]\n"
     ]
    }
   ],
   "source": [
    "print(\"Confusion Matrix\")\n",
    "print(confusion_matrix(test_y , pred_y))"
   ]
  },
  {
   "cell_type": "markdown",
   "metadata": {},
   "source": [
    "### Multinomial Naive Baye's"
   ]
  },
  {
   "cell_type": "code",
   "execution_count": 22,
   "metadata": {
    "collapsed": true
   },
   "outputs": [],
   "source": [
    "from sklearn.naive_bayes import MultinomialNB\n",
    "model2 = MultinomialNB()\n",
    "model1.fit(train_x , train_y)\n",
    "pred_y = model1.predict(test_x)"
   ]
  },
  {
   "cell_type": "code",
   "execution_count": 23,
   "metadata": {
    "collapsed": false
   },
   "outputs": [
    {
     "name": "stdout",
     "output_type": "stream",
     "text": [
      "      Actual  Predicted\n",
      "0         15         15\n",
      "1          0          4\n",
      "2         15         22\n",
      "3          6          6\n",
      "4          0          0\n",
      "5         15         15\n",
      "6          8          8\n",
      "7         17         17\n",
      "8         23         23\n",
      "9          4          4\n",
      "10        19         19\n",
      "11         6         19\n",
      "12         2         14\n",
      "13         1          5\n",
      "14        22         21\n",
      "15        10         10\n",
      "16        19         19\n",
      "17        15         15\n",
      "18        21         17\n",
      "19         6         19\n",
      "20        15         15\n",
      "21        12         12\n",
      "22        16         16\n",
      "23         6          5\n",
      "24        14         14\n",
      "25        16          7\n",
      "26        14         14\n",
      "27        10         17\n",
      "28        11         11\n",
      "29        17         17\n",
      "...      ...        ...\n",
      "8207      19         19\n",
      "8208      15         15\n",
      "8209      19         19\n",
      "8210      18         15\n",
      "8211       6         15\n",
      "8212      17         17\n",
      "8213      13         13\n",
      "8214      23         23\n",
      "8215       2         14\n",
      "8216      19         19\n",
      "8217      14         14\n",
      "8218       0         16\n",
      "8219      17          8\n",
      "8220      11         11\n",
      "8221       0          0\n",
      "8222      14         14\n",
      "8223      20         10\n",
      "8224       7         19\n",
      "8225       0          8\n",
      "8226       5         19\n",
      "8227       6         11\n",
      "8228      18         18\n",
      "8229       0          0\n",
      "8230      18          4\n",
      "8231      17         17\n",
      "8232      20         24\n",
      "8233      21         21\n",
      "8234      16         16\n",
      "8235       8         22\n",
      "8236      22         22\n",
      "\n",
      "[8237 rows x 2 columns]\n"
     ]
    }
   ],
   "source": [
    "d = {'Actual' : test_y , 'Predicted' : pred_y}\n",
    "out = pd.DataFrame(data = d)\n",
    "print(out)"
   ]
  },
  {
   "cell_type": "code",
   "execution_count": 24,
   "metadata": {
    "collapsed": false
   },
   "outputs": [
    {
     "name": "stdout",
     "output_type": "stream",
     "text": [
      "Confusion Matrix\n",
      "[[154   0   0   0  36   0   0   0  20  17   0  15   5  16  29  12   0  34\n",
      "    0   0   0   0   2   0]\n",
      " [  0 141   0   0  18  12   0   0  32  34   0   0   1   0  32   2  15   8\n",
      "    0   4   0   5   0   0]\n",
      " [  0   0 264   0   1   3   8   0   0   3   2   0   0  25   7   9   0   0\n",
      "   15   0   0   0   0   0]\n",
      " [  0   6   0 162  16  10   0   0  42  41   0   0   1   0  20  11  27  14\n",
      "    9   5  10   1   6   4]\n",
      " [ 15   0   0   0 186   0   0   0   3   1   0  22   4   8   7  17   0  19\n",
      "    3   4   0   1   5   0]\n",
      " [  1   2   3   2   5 128  16   0  10  18  10   0   0  23  26  15  19   1\n",
      "   56   0  11   3   8   0]\n",
      " [  0   0   3   2   0  18 168  20   6   3  17   0   0   2   8  12   6   0\n",
      "   63   1   0   0   2   0]\n",
      " [  0   0   0  10   0   4  52 115   1  22   1   0   0   2  11  11   0   0\n",
      "   58   2   8   1   0   6]\n",
      " [ 10   0   0   4   0  11   4   0 206  14   0   4   1   4  11   3  12   8\n",
      "    7   1   9  10   5   3]\n",
      " [  0   3   0   0   0   0   0   0   8 156   2   0   0   0  26   1  60   0\n",
      "    4   4  31   5   0   6]\n",
      " [  0   0   0   0   0   7   1   6   3   6 197   0   0   1  18   1  22   3\n",
      "   63   4  10   1  10   5]\n",
      " [ 15   0   0   3  32   0   0   0  20  20   0 118  11  14  12  21   2  37\n",
      "    1   0   1   6   1   3]\n",
      " [  4   0   0   5  43   2   0   3   6  25   0  63  94  21  23  13  10  32\n",
      "   11   1   0   6   4   0]\n",
      " [  0   0  10   1  19   1   2   7   2   1   0  11   5 227   7  33   0   2\n",
      "   27   0   0   0   1   1]\n",
      " [  0   0   0   1   0   0   0   2  18   0   3   2   0   0 248   9  13   7\n",
      "    0   0  10  11   4  11]\n",
      " [  0   0   0   2   0   1   0   6   1   4   0   9  30   7  43 205   2   7\n",
      "   24   0   3   3  16   2]\n",
      " [  0   0   0   9   0   1   0   9  38  51  14   0   0   0  13   0 174   5\n",
      "   12  18  56   6   1   7]\n",
      " [  7   1   0   0  42   1   0   0  36   7   0  44   3  32  35  15   6 125\n",
      "    1   1   8   6   0   0]\n",
      " [  0   0   1   1   0  13  12   8   0   9  11   0   0   4  11  12   3   0\n",
      "  245   0   0   0  16   0]\n",
      " [  0  10   0  13   0   7   0   5  24  26  13   0   0   0  35   5 104   0\n",
      "   28  34  26   3   4   5]\n",
      " [  0   2   0   5   0   8   4   2  37  17  19   0   0   0  29   1  48   5\n",
      "   34  15 109   3   6   5]\n",
      " [  0  10   0   0   0   4   0   5  12  50   3   0   0   0  44   0  87   6\n",
      "    4   7  79  18   5   6]\n",
      " [  0   0   0  17   0   2   0   2  21  16   4   7   7   0  27  26  25  15\n",
      "   59   0  11   1 104   4]\n",
      " [  1   0   0   5   0   8   0   3  40  28   6   0   0   0  25   9  34   7\n",
      "   30   4   8   7   4 121]]\n"
     ]
    }
   ],
   "source": [
    "print(\"Confusion Matrix\")\n",
    "print(confusion_matrix(test_y , pred_y))"
   ]
  },
  {
   "cell_type": "code",
   "execution_count": 25,
   "metadata": {
    "collapsed": false
   },
   "outputs": [
    {
     "name": "stdout",
     "output_type": "stream",
     "text": [
      "0.4490712638096394\n"
     ]
    }
   ],
   "source": [
    "print(accuracy_score(test_y ,pred_y))"
   ]
  },
  {
   "cell_type": "markdown",
   "metadata": {},
   "source": [
    "## SVM (Support Vector Machines)"
   ]
  },
  {
   "cell_type": "markdown",
   "metadata": {},
   "source": [
    "### Linear Kernel"
   ]
  },
  {
   "cell_type": "code",
   "execution_count": 26,
   "metadata": {
    "collapsed": false
   },
   "outputs": [
    {
     "name": "stdout",
     "output_type": "stream",
     "text": [
      "Training Time= 0:00:51.834767\n"
     ]
    }
   ],
   "source": [
    "from sklearn.svm import SVC\n",
    "model = SVC(kernel = 'linear')\n",
    "\n",
    "ini=datetime.datetime.now()\n",
    "model.fit(train_x , train_y)\n",
    "fin = datetime.datetime.now()\n",
    "lsvm_train_time = fin - ini\n",
    "print('Training Time=',lsvm_train_time)"
   ]
  },
  {
   "cell_type": "code",
   "execution_count": 27,
   "metadata": {
    "collapsed": false
   },
   "outputs": [
    {
     "name": "stdout",
     "output_type": "stream",
     "text": [
      "Pred. Test Time= 0:00:23.611753\n"
     ]
    }
   ],
   "source": [
    "start=datetime.datetime.now()\n",
    "y_pred = model.predict(test_x)\n",
    "end = datetime.datetime.now()\n",
    "lsvm_pred_test_time = end - start\n",
    "print('Pred. Test Time=',lsvm_pred_test_time)"
   ]
  },
  {
   "cell_type": "code",
   "execution_count": 28,
   "metadata": {
    "collapsed": false
   },
   "outputs": [
    {
     "name": "stdout",
     "output_type": "stream",
     "text": [
      "      Actual  Predicted\n",
      "0         15         15\n",
      "1          0          0\n",
      "2         15         15\n",
      "3          6          6\n",
      "4          0          0\n",
      "5         15         15\n",
      "6          8          8\n",
      "7         17         17\n",
      "8         23         23\n",
      "9          4          4\n",
      "10        19         19\n",
      "11         6          6\n",
      "12         2          2\n",
      "13         1          1\n",
      "14        22         22\n",
      "15        10         10\n",
      "16        19         19\n",
      "17        15         15\n",
      "18        21         21\n",
      "19         6          6\n",
      "20        15         15\n",
      "21        12         12\n",
      "22        16         16\n",
      "23         6          6\n",
      "24        14         14\n",
      "25        16         16\n",
      "26        14         14\n",
      "27        10         10\n",
      "28        11         11\n",
      "29        17         17\n",
      "...      ...        ...\n",
      "8207      19         19\n",
      "8208      15         15\n",
      "8209      19         19\n",
      "8210      18         18\n",
      "8211       6          6\n",
      "8212      17         17\n",
      "8213      13         13\n",
      "8214      23         23\n",
      "8215       2          2\n",
      "8216      19         19\n",
      "8217      14         14\n",
      "8218       0          0\n",
      "8219      17         17\n",
      "8220      11         11\n",
      "8221       0          0\n",
      "8222      14         14\n",
      "8223      20         20\n",
      "8224       7          7\n",
      "8225       0          0\n",
      "8226       5          5\n",
      "8227       6          6\n",
      "8228      18         18\n",
      "8229       0          0\n",
      "8230      18         18\n",
      "8231      17         17\n",
      "8232      20         20\n",
      "8233      21         21\n",
      "8234      16         16\n",
      "8235       8          8\n",
      "8236      22         22\n",
      "\n",
      "[8237 rows x 2 columns]\n"
     ]
    }
   ],
   "source": [
    "d = {'Actual' : test_y , 'Predicted' : y_pred}\n",
    "out = pd.DataFrame(data = d)\n",
    "print(out)"
   ]
  },
  {
   "cell_type": "code",
   "execution_count": 29,
   "metadata": {
    "collapsed": false
   },
   "outputs": [
    {
     "name": "stdout",
     "output_type": "stream",
     "text": [
      "Accuracy Score= 1.0\n"
     ]
    }
   ],
   "source": [
    "print('Accuracy Score=',accuracy_score(test_y , y_pred))"
   ]
  },
  {
   "cell_type": "code",
   "execution_count": 30,
   "metadata": {
    "collapsed": false
   },
   "outputs": [
    {
     "name": "stdout",
     "output_type": "stream",
     "text": [
      "Confusion Matrix\n",
      "[[340   0   0   0   0   0   0   0   0   0   0   0   0   0   0   0   0   0\n",
      "    0   0   0   0   0   0]\n",
      " [  0 304   0   0   0   0   0   0   0   0   0   0   0   0   0   0   0   0\n",
      "    0   0   0   0   0   0]\n",
      " [  0   0 337   0   0   0   0   0   0   0   0   0   0   0   0   0   0   0\n",
      "    0   0   0   0   0   0]\n",
      " [  0   0   0 385   0   0   0   0   0   0   0   0   0   0   0   0   0   0\n",
      "    0   0   0   0   0   0]\n",
      " [  0   0   0   0 295   0   0   0   0   0   0   0   0   0   0   0   0   0\n",
      "    0   0   0   0   0   0]\n",
      " [  0   0   0   0   0 357   0   0   0   0   0   0   0   0   0   0   0   0\n",
      "    0   0   0   0   0   0]\n",
      " [  0   0   0   0   0   0 331   0   0   0   0   0   0   0   0   0   0   0\n",
      "    0   0   0   0   0   0]\n",
      " [  0   0   0   0   0   0   0 304   0   0   0   0   0   0   0   0   0   0\n",
      "    0   0   0   0   0   0]\n",
      " [  0   0   0   0   0   0   0   0 327   0   0   0   0   0   0   0   0   0\n",
      "    0   0   0   0   0   0]\n",
      " [  0   0   0   0   0   0   0   0   0 306   0   0   0   0   0   0   0   0\n",
      "    0   0   0   0   0   0]\n",
      " [  0   0   0   0   0   0   0   0   0   0 358   0   0   0   0   0   0   0\n",
      "    0   0   0   0   0   0]\n",
      " [  0   0   0   0   0   0   0   0   0   0   0 317   0   0   0   0   0   0\n",
      "    0   0   0   0   0   0]\n",
      " [  0   0   0   0   0   0   0   0   0   0   0   0 366   0   0   0   0   0\n",
      "    0   0   0   0   0   0]\n",
      " [  0   0   0   0   0   0   0   0   0   0   0   0   0 357   0   0   0   0\n",
      "    0   0   0   0   0   0]\n",
      " [  0   0   0   0   0   0   0   0   0   0   0   0   0   0 339   0   0   0\n",
      "    0   0   0   0   0   0]\n",
      " [  0   0   0   0   0   0   0   0   0   0   0   0   0   0   0 365   0   0\n",
      "    0   0   0   0   0   0]\n",
      " [  0   0   0   0   0   0   0   0   0   0   0   0   0   0   0   0 414   0\n",
      "    0   0   0   0   0   0]\n",
      " [  0   0   0   0   0   0   0   0   0   0   0   0   0   0   0   0   0 370\n",
      "    0   0   0   0   0   0]\n",
      " [  0   0   0   0   0   0   0   0   0   0   0   0   0   0   0   0   0   0\n",
      "  346   0   0   0   0   0]\n",
      " [  0   0   0   0   0   0   0   0   0   0   0   0   0   0   0   0   0   0\n",
      "    0 342   0   0   0   0]\n",
      " [  0   0   0   0   0   0   0   0   0   0   0   0   0   0   0   0   0   0\n",
      "    0   0 349   0   0   0]\n",
      " [  0   0   0   0   0   0   0   0   0   0   0   0   0   0   0   0   0   0\n",
      "    0   0   0 340   0   0]\n",
      " [  0   0   0   0   0   0   0   0   0   0   0   0   0   0   0   0   0   0\n",
      "    0   0   0   0 348   0]\n",
      " [  0   0   0   0   0   0   0   0   0   0   0   0   0   0   0   0   0   0\n",
      "    0   0   0   0   0 340]]\n"
     ]
    }
   ],
   "source": [
    "print('Confusion Matrix')\n",
    "print(confusion_matrix(test_y , y_pred))"
   ]
  },
  {
   "cell_type": "markdown",
   "metadata": {},
   "source": [
    "### Polynomial Kernel"
   ]
  },
  {
   "cell_type": "code",
   "execution_count": 31,
   "metadata": {
    "collapsed": false
   },
   "outputs": [
    {
     "name": "stdout",
     "output_type": "stream",
     "text": [
      "Training Time= 0:00:41.445721\n"
     ]
    }
   ],
   "source": [
    "model = SVC(kernel = 'poly' , degree = 6)\n",
    "\n",
    "ini=datetime.datetime.now()\n",
    "model.fit(train_x , train_y)\n",
    "fin = datetime.datetime.now()\n",
    "psvm_train_time = fin - ini\n",
    "print('Training Time=',psvm_train_time)"
   ]
  },
  {
   "cell_type": "code",
   "execution_count": 32,
   "metadata": {
    "collapsed": false
   },
   "outputs": [
    {
     "name": "stdout",
     "output_type": "stream",
     "text": [
      "Pred. Test Time= 0:00:14.551251\n"
     ]
    }
   ],
   "source": [
    "start=datetime.datetime.now()\n",
    "y_pred = model.predict(test_x)\n",
    "end = datetime.datetime.now()\n",
    "lsvm_pred_test_time = end - start\n",
    "print('Pred. Test Time=',lsvm_pred_test_time)"
   ]
  },
  {
   "cell_type": "code",
   "execution_count": 33,
   "metadata": {
    "collapsed": false
   },
   "outputs": [
    {
     "name": "stdout",
     "output_type": "stream",
     "text": [
      "Accuracy Score= 0.9980575452227752\n",
      "Confusion Matrix\n",
      "[[336   0   0   0   0   0   0   0   1   0   0   1   1   0   0   0   0   1\n",
      "    0   0   0   0   0   0]\n",
      " [  0 304   0   0   0   0   0   0   0   0   0   0   0   0   0   0   0   0\n",
      "    0   0   0   0   0   0]\n",
      " [  0   0 337   0   0   0   0   0   0   0   0   0   0   0   0   0   0   0\n",
      "    0   0   0   0   0   0]\n",
      " [  0   0   0 385   0   0   0   0   0   0   0   0   0   0   0   0   0   0\n",
      "    0   0   0   0   0   0]\n",
      " [  0   0   0   0 295   0   0   0   0   0   0   0   0   0   0   0   0   0\n",
      "    0   0   0   0   0   0]\n",
      " [  0   0   0   0   0 354   1   0   0   1   1   0   0   0   0   0   0   0\n",
      "    0   0   0   0   0   0]\n",
      " [  0   0   0   0   0   0 331   0   0   0   0   0   0   0   0   0   0   0\n",
      "    0   0   0   0   0   0]\n",
      " [  0   0   0   0   0   0   0 304   0   0   0   0   0   0   0   0   0   0\n",
      "    0   0   0   0   0   0]\n",
      " [  0   0   0   0   0   0   0   0 327   0   0   0   0   0   0   0   0   0\n",
      "    0   0   0   0   0   0]\n",
      " [  0   0   0   0   0   0   0   0   0 305   0   0   0   0   0   0   0   0\n",
      "    0   0   1   0   0   0]\n",
      " [  0   0   0   0   0   0   0   0   0   0 358   0   0   0   0   0   0   0\n",
      "    0   0   0   0   0   0]\n",
      " [  0   0   0   0   0   0   0   0   0   0   0 317   0   0   0   0   0   0\n",
      "    0   0   0   0   0   0]\n",
      " [  0   0   0   0   0   0   0   0   0   0   0   0 364   0   0   2   0   0\n",
      "    0   0   0   0   0   0]\n",
      " [  0   0   0   0   0   0   0   0   0   0   0   0   0 357   0   0   0   0\n",
      "    0   0   0   0   0   0]\n",
      " [  0   0   0   0   0   0   0   0   0   0   0   0   0   0 339   0   0   0\n",
      "    0   0   0   0   0   0]\n",
      " [  0   2   0   0   0   0   0   0   0   0   0   0   0   0   0 363   0   0\n",
      "    0   0   0   0   0   0]\n",
      " [  0   0   0   0   0   0   0   0   0   0   0   0   0   0   0   0 414   0\n",
      "    0   0   0   0   0   0]\n",
      " [  0   0   0   0   0   0   0   0   0   0   0   0   1   0   0   0   1 368\n",
      "    0   0   0   0   0   0]\n",
      " [  0   0   0   0   0   0   0   0   0   0   0   0   0   0   0   0   0   0\n",
      "  346   0   0   0   0   0]\n",
      " [  0   0   0   0   0   0   0   0   0   0   0   0   0   0   0   0   0   0\n",
      "    0 342   0   0   0   0]\n",
      " [  0   0   0   0   0   0   0   0   0   0   0   0   0   0   0   0   0   0\n",
      "    0   0 349   0   0   0]\n",
      " [  0   0   0   0   0   0   0   0   0   0   0   0   0   0   0   0   0   0\n",
      "    0   0   0 340   0   0]\n",
      " [  0   0   0   0   0   0   0   2   0   0   0   0   0   0   0   0   0   0\n",
      "    0   0   0   0 346   0]\n",
      " [  0   0   0   0   0   0   0   0   0   0   0   0   0   0   0   0   0   0\n",
      "    0   0   0   0   0 340]]\n"
     ]
    }
   ],
   "source": [
    "print('Accuracy Score=',accuracy_score(test_y , y_pred))\n",
    "print('Confusion Matrix')\n",
    "print(confusion_matrix(test_y , y_pred))"
   ]
  },
  {
   "cell_type": "markdown",
   "metadata": {},
   "source": [
    "### Gaussian/RBF Kernel"
   ]
  },
  {
   "cell_type": "code",
   "execution_count": 34,
   "metadata": {
    "collapsed": false
   },
   "outputs": [
    {
     "name": "stdout",
     "output_type": "stream",
     "text": [
      "Training Time= 0:15:28.489236\n"
     ]
    }
   ],
   "source": [
    "model = SVC(kernel = 'rbf')\n",
    "\n",
    "ini=datetime.datetime.now()\n",
    "model.fit(train_x , train_y)\n",
    "fin=datetime.datetime.now()\n",
    "rbf_train_time = fin - ini\n",
    "print('Training Time=',rbf_train_time)"
   ]
  },
  {
   "cell_type": "code",
   "execution_count": 35,
   "metadata": {
    "collapsed": false
   },
   "outputs": [
    {
     "name": "stdout",
     "output_type": "stream",
     "text": [
      "Pred. Test Time= 0:03:07.051352\n"
     ]
    }
   ],
   "source": [
    "start=datetime.datetime.now()\n",
    "y_pred = model.predict(test_x)\n",
    "end = datetime.datetime.now()\n",
    "rbf_pred_test_time = end - start\n",
    "print('Pred. Test Time=',rbf_pred_test_time)\n"
   ]
  },
  {
   "cell_type": "code",
   "execution_count": 36,
   "metadata": {
    "collapsed": false
   },
   "outputs": [
    {
     "name": "stdout",
     "output_type": "stream",
     "text": [
      "Accuracy Score= 0.21694791793128565\n",
      "Confusion Matrix\n",
      "[[ 58   0   0   0   0   0   0   0   0   0   0   0   0   0   0 282   0   0\n",
      "    0   0   0   0   0   0]\n",
      " [  0  39   0   0   0   0   0   0   0   0   0   0   0   0   0 265   0   0\n",
      "    0   0   0   0   0   0]\n",
      " [  0   0  75   0   0   0   0   0   0   0   0   0   0   0   0 262   0   0\n",
      "    0   0   0   0   0   0]\n",
      " [  0   0   0  67   0   0   0   0   0   0   0   0   0   0   0 318   0   0\n",
      "    0   0   0   0   0   0]\n",
      " [  0   0   0   0  31   0   0   0   0   0   0   0   0   0   0 264   0   0\n",
      "    0   0   0   0   0   0]\n",
      " [  0   0   0   0   0  58   0   0   0   0   0   0   0   0   0 299   0   0\n",
      "    0   0   0   0   0   0]\n",
      " [  0   0   0   0   0   0  60   0   0   0   0   0   0   0   0 271   0   0\n",
      "    0   0   0   0   0   0]\n",
      " [  0   0   0   0   0   0   0  53   0   0   0   0   0   0   0 251   0   0\n",
      "    0   0   0   0   0   0]\n",
      " [  0   0   0   0   0   0   0   0  74   0   0   0   0   0   0 253   0   0\n",
      "    0   0   0   0   0   0]\n",
      " [  0   0   0   0   0   0   0   0   0  48   0   0   0   0   0 258   0   0\n",
      "    0   0   0   0   0   0]\n",
      " [  0   0   0   0   0   0   0   0   0   0  82   0   0   0   0 276   0   0\n",
      "    0   0   0   0   0   0]\n",
      " [  0   0   0   0   0   0   0   0   0   0   0  50   0   0   0 267   0   0\n",
      "    0   0   0   0   0   0]\n",
      " [  0   0   0   0   0   0   0   0   0   0   0   0  55   0   0 311   0   0\n",
      "    0   0   0   0   0   0]\n",
      " [  0   0   0   0   0   0   0   0   0   0   0   0   0  69   0 288   0   0\n",
      "    0   0   0   0   0   0]\n",
      " [  0   0   0   0   0   0   0   0   0   0   0   0   0   0  54 285   0   0\n",
      "    0   0   0   0   0   0]\n",
      " [  0   0   0   0   0   0   0   0   0   0   0   0   0   0   0 365   0   0\n",
      "    0   0   0   0   0   0]\n",
      " [  0   0   0   0   0   0   0   0   0   0   0   0   0   0   0 334  80   0\n",
      "    0   0   0   0   0   0]\n",
      " [  0   0   0   0   0   0   0   0   0   0   0   0   0   0   0 301   0  69\n",
      "    0   0   0   0   0   0]\n",
      " [  0   0   0   0   0   0   0   0   0   0   0   0   0   0   0 267   0   0\n",
      "   79   0   0   0   0   0]\n",
      " [  0   0   0   0   0   0   0   0   0   0   0   0   0   0   0 279   0   0\n",
      "    0  63   0   0   0   0]\n",
      " [  0   0   0   0   0   0   0   0   0   0   0   0   0   0   0 292   0   0\n",
      "    0   0  57   0   0   0]\n",
      " [  0   0   0   0   0   0   0   0   0   0   0   0   0   0   0 254   0   0\n",
      "    0   0   0  86   0   0]\n",
      " [  0   0   0   0   0   0   0   0   0   0   0   0   0   0   0 279   0   0\n",
      "    0   0   0   0  69   0]\n",
      " [  0   0   0   0   0   0   0   0   0   0   0   0   0   0   0 294   0   0\n",
      "    0   0   0   0   0  46]]\n"
     ]
    }
   ],
   "source": [
    "print('Accuracy Score=',accuracy_score(test_y , y_pred))\n",
    "print('Confusion Matrix')\n",
    "print(confusion_matrix(test_y , y_pred))"
   ]
  },
  {
   "cell_type": "markdown",
   "metadata": {},
   "source": [
    "### Sigmoid Kernel"
   ]
  },
  {
   "cell_type": "code",
   "execution_count": 7,
   "metadata": {
    "collapsed": false
   },
   "outputs": [
    {
     "name": "stdout",
     "output_type": "stream",
     "text": [
      "Training Time= 0:13:11.985152\n"
     ]
    }
   ],
   "source": [
    "from sklearn.svm import SVC\n",
    "model = SVC(kernel = 'sigmoid')\n",
    "\n",
    "ini=datetime.datetime.now()\n",
    "model.fit(train_x , train_y)\n",
    "fin=datetime.datetime.now()\n",
    "sig_train_time = fin - ini\n",
    "print('Training Time=',sig_train_time)"
   ]
  },
  {
   "cell_type": "code",
   "execution_count": 17,
   "metadata": {
    "collapsed": false
   },
   "outputs": [
    {
     "name": "stdout",
     "output_type": "stream",
     "text": [
      "Pred. Test Time= 0:02:58.797600\n"
     ]
    }
   ],
   "source": [
    "start=datetime.datetime.now()\n",
    "y_pred = model.predict(test_x)\n",
    "end = datetime.datetime.now()\n",
    "sig_pred_test_time = end - start\n",
    "print('Pred. Test Time=',sig_pred_test_time)"
   ]
  },
  {
   "cell_type": "code",
   "execution_count": null,
   "metadata": {
    "collapsed": true
   },
   "outputs": [],
   "source": [
    "print('Accuracy Score=',accuracy_score(test_y , y_pred))\n",
    "print('Confusion Matrix')\n",
    "print(confusion_matrix(test_y , y_pred))"
   ]
  },
  {
   "cell_type": "markdown",
   "metadata": {},
   "source": [
    "## KNN (K Nearest Neighbour)"
   ]
  },
  {
   "cell_type": "code",
   "execution_count": 8,
   "metadata": {
    "collapsed": true
   },
   "outputs": [],
   "source": [
    "from sklearn.neighbors import KNeighborsClassifier\n",
    "knn = KNeighborsClassifier(n_neighbors = 24)"
   ]
  },
  {
   "cell_type": "code",
   "execution_count": 9,
   "metadata": {
    "collapsed": false
   },
   "outputs": [
    {
     "name": "stdout",
     "output_type": "stream",
     "text": [
      "Training Time= 0:00:01.210147\n"
     ]
    }
   ],
   "source": [
    "ini=datetime.datetime.now()\n",
    "knn.fit(train_x , train_y)\n",
    "fin=datetime.datetime.now()\n",
    "knn_train_time = fin - ini\n",
    "print('Training Time=',knn_train_time)"
   ]
  },
  {
   "cell_type": "code",
   "execution_count": 10,
   "metadata": {
    "collapsed": false
   },
   "outputs": [
    {
     "name": "stdout",
     "output_type": "stream",
     "text": [
      "Pred. Test Time= 0:04:55.141568\n"
     ]
    }
   ],
   "source": [
    "start=datetime.datetime.now()\n",
    "y_pred = knn.predict(test_x)\n",
    "end = datetime.datetime.now()\n",
    "knn_pred_test_time = end - start\n",
    "print('Pred. Test Time=',knn_pred_test_time)"
   ]
  },
  {
   "cell_type": "code",
   "execution_count": 11,
   "metadata": {
    "collapsed": false
   },
   "outputs": [
    {
     "name": "stdout",
     "output_type": "stream",
     "text": [
      "Accuracy Score= 0.9442758285783659\n"
     ]
    }
   ],
   "source": [
    "print('Accuracy Score=',accuracy_score(test_y , y_pred))"
   ]
  },
  {
   "cell_type": "code",
   "execution_count": 12,
   "metadata": {
    "collapsed": false
   },
   "outputs": [
    {
     "name": "stdout",
     "output_type": "stream",
     "text": [
      "Confusion Matrix\n",
      "[[332   3   0   0   2   0   0   0   0   0   0   0   2   0   0   0   0   1\n",
      "    0   0   0   0   0   0]\n",
      " [  0 286   0   4   0   0   0   0   0   3   0   0   0   0   0   0   1   0\n",
      "    0   9   1   0   0   0]\n",
      " [  0   0 336   0   0   0   0   0   0   0   0   0   0   1   0   0   0   0\n",
      "    0   0   0   0   0   0]\n",
      " [  0   0   0 377   0   0   0   0   0   0   0   0   0   0   0   0   0   0\n",
      "    0   1   0   0   7   0]\n",
      " [  0   2   0   0 292   0   0   0   0   0   0   0   1   0   0   0   0   0\n",
      "    0   0   0   0   0   0]\n",
      " [  0   1   0   2   0 350   0   0   0   0   0   0   0   0   0   0   2   0\n",
      "    2   0   0   0   0   0]\n",
      " [  0   0   0   0   0   0 323   4   0   0   0   0   0   0   0   0   0   0\n",
      "    4   0   0   0   0   0]\n",
      " [  0   0   0   0   0   0  15 285   0   0   0   0   0   0   0   0   0   0\n",
      "    4   0   0   0   0   0]\n",
      " [  0   1   0   0   0   0   0   0 317   0   0   0   1   0   0   0   2   2\n",
      "    1   0   0   0   0   3]\n",
      " [  0   0   0   0   0   0   0   0   0 282   0   0   0   0   0   0   3   0\n",
      "    0  21   0   0   0   0]\n",
      " [  0   0   0   0   0   0   2   3   0   0 350   0   0   0   0   0   0   0\n",
      "    1   1   0   1   0   0]\n",
      " [  2   0   0   0   8   0   0   1   0   0   0 278  26   0   0   0   0   2\n",
      "    0   0   0   0   0   0]\n",
      " [  1   0   0   0   8   0   0   0   0   0   0   5 352   0   0   0   0   0\n",
      "    0   0   0   0   0   0]\n",
      " [  0   0   2   0   0   0   0   0   0   0   0   0   0 355   0   0   0   0\n",
      "    0   0   0   0   0   0]\n",
      " [  0   0   0   0   0   0   0   0   0   0   0   0   0   0 339   0   0   0\n",
      "    0   0   0   0   0   0]\n",
      " [  0   0   0   0   0   0   0   0   0   0   0   0   0   0   0 361   0   0\n",
      "    0   0   0   1   3   0]\n",
      " [  0  18   0   2   0   0   0   0   2   2   1   0   0   0   0   0 360   0\n",
      "    0  24   3   2   0   0]\n",
      " [  3   0   0   1   8   0   0   0   4   0   0   4   1   0   0   1   1 346\n",
      "    0   0   0   0   0   1]\n",
      " [  0   0   0   2   0   0   0   6   0   0   0   0   0   0   0   0   0   0\n",
      "  336   0   0   0   2   0]\n",
      " [  0   4   0   0   0   0   0   0   0   8   0   0   0   0   0   0   7   0\n",
      "    0 314   7   2   0   0]\n",
      " [  0   0   0   0   0   1   0   3   0   2   0   0   0   0   0   0   8   0\n",
      "   12  21 277  25   0   0]\n",
      " [  0   4   0   0   0   0   0   1   0   1   0   0   0   0   0   0  10   0\n",
      "    0  15  17 292   0   0]\n",
      " [  0   0   0   2   0   0   0   1   0   1   0   0   0   0   0   0   1   0\n",
      "    9   0   0   0 334   0]\n",
      " [  0   0   0   3   0   0  10   0   6   0   0   0   0   0   0   0   1   0\n",
      "   14   1   0   1   0 304]]\n"
     ]
    }
   ],
   "source": [
    "print('Confusion Matrix')\n",
    "print(confusion_matrix(test_y , y_pred))"
   ]
  },
  {
   "cell_type": "markdown",
   "metadata": {},
   "source": [
    "## Decision Tree"
   ]
  },
  {
   "cell_type": "code",
   "execution_count": 13,
   "metadata": {
    "collapsed": false
   },
   "outputs": [
    {
     "name": "stdout",
     "output_type": "stream",
     "text": [
      "Training Time= 0:00:14.321784\n"
     ]
    }
   ],
   "source": [
    "from sklearn.tree import DecisionTreeClassifier\n",
    "dtc = DecisionTreeClassifier(criterion = 'gini')\n",
    "\n",
    "ini = datetime.datetime.now()\n",
    "dtc.fit(train_x , train_y)\n",
    "fin = datetime.datetime.now()\n",
    "dtc_train_time = fin - ini\n",
    "print('Training Time=',dtc_train_time)"
   ]
  },
  {
   "cell_type": "code",
   "execution_count": 14,
   "metadata": {
    "collapsed": false
   },
   "outputs": [
    {
     "name": "stdout",
     "output_type": "stream",
     "text": [
      "Pred. Test Time= 0:00:00.174854\n"
     ]
    }
   ],
   "source": [
    "start = datetime.datetime.now() \n",
    "pred_y = dtc.predict(test_x)\n",
    "end = datetime.datetime.now()\n",
    "dtc_pred_test_time = end - start\n",
    "print('Pred. Test Time=',dtc_pred_test_time)"
   ]
  },
  {
   "cell_type": "code",
   "execution_count": 15,
   "metadata": {
    "collapsed": false
   },
   "outputs": [
    {
     "name": "stdout",
     "output_type": "stream",
     "text": [
      "      Actual  Predicted\n",
      "0         15         15\n",
      "1          0          0\n",
      "2         15         21\n",
      "3          6          6\n",
      "4          0          0\n",
      "5         15         15\n",
      "6          8         20\n",
      "7         17         17\n",
      "8         23         23\n",
      "9          4          4\n",
      "10        19         19\n",
      "11         6          6\n",
      "12         2         24\n",
      "13         1         12\n",
      "14        22         22\n",
      "15        10         10\n",
      "16        19         19\n",
      "17        15         15\n",
      "18        21         21\n",
      "19         6          6\n",
      "20        15         15\n",
      "21        12         12\n",
      "22        16         22\n",
      "23         6          6\n",
      "24        14         14\n",
      "25        16         16\n",
      "26        14         14\n",
      "27        10         10\n",
      "28        11         11\n",
      "29        17         17\n",
      "...      ...        ...\n",
      "8207      19         19\n",
      "8208      15         15\n",
      "8209      19         12\n",
      "8210      18         18\n",
      "8211       6          6\n",
      "8212      17         17\n",
      "8213      13         13\n",
      "8214      23         23\n",
      "8215       2          2\n",
      "8216      19         19\n",
      "8217      14         14\n",
      "8218       0          0\n",
      "8219      17         20\n",
      "8220      11          5\n",
      "8221       0          0\n",
      "8222      14         14\n",
      "8223      20          5\n",
      "8224       7          7\n",
      "8225       0          0\n",
      "8226       5          5\n",
      "8227       6          6\n",
      "8228      18         18\n",
      "8229       0          0\n",
      "8230      18         18\n",
      "8231      17         17\n",
      "8232      20         20\n",
      "8233      21         21\n",
      "8234      16         16\n",
      "8235       8          8\n",
      "8236      22         22\n",
      "\n",
      "[8237 rows x 2 columns]\n",
      "Accuracy score =  0.8652421998300353\n"
     ]
    }
   ],
   "source": [
    "res = pd.DataFrame({'Actual':test_y , 'Predicted':pred_y})\n",
    "print(res)\n",
    "print(\"Accuracy score = \" , accuracy_score(test_y , pred_y))"
   ]
  },
  {
   "cell_type": "code",
   "execution_count": 16,
   "metadata": {
    "collapsed": false
   },
   "outputs": [
    {
     "name": "stdout",
     "output_type": "stream",
     "text": [
      "Confusion Matrix\n",
      "[[332   3   0   0   2   0   0   0   0   0   0   0   2   0   0   0   0   1\n",
      "    0   0   0   0   0   0]\n",
      " [  0 286   0   4   0   0   0   0   0   3   0   0   0   0   0   0   1   0\n",
      "    0   9   1   0   0   0]\n",
      " [  0   0 336   0   0   0   0   0   0   0   0   0   0   1   0   0   0   0\n",
      "    0   0   0   0   0   0]\n",
      " [  0   0   0 377   0   0   0   0   0   0   0   0   0   0   0   0   0   0\n",
      "    0   1   0   0   7   0]\n",
      " [  0   2   0   0 292   0   0   0   0   0   0   0   1   0   0   0   0   0\n",
      "    0   0   0   0   0   0]\n",
      " [  0   1   0   2   0 350   0   0   0   0   0   0   0   0   0   0   2   0\n",
      "    2   0   0   0   0   0]\n",
      " [  0   0   0   0   0   0 323   4   0   0   0   0   0   0   0   0   0   0\n",
      "    4   0   0   0   0   0]\n",
      " [  0   0   0   0   0   0  15 285   0   0   0   0   0   0   0   0   0   0\n",
      "    4   0   0   0   0   0]\n",
      " [  0   1   0   0   0   0   0   0 317   0   0   0   1   0   0   0   2   2\n",
      "    1   0   0   0   0   3]\n",
      " [  0   0   0   0   0   0   0   0   0 282   0   0   0   0   0   0   3   0\n",
      "    0  21   0   0   0   0]\n",
      " [  0   0   0   0   0   0   2   3   0   0 350   0   0   0   0   0   0   0\n",
      "    1   1   0   1   0   0]\n",
      " [  2   0   0   0   8   0   0   1   0   0   0 278  26   0   0   0   0   2\n",
      "    0   0   0   0   0   0]\n",
      " [  1   0   0   0   8   0   0   0   0   0   0   5 352   0   0   0   0   0\n",
      "    0   0   0   0   0   0]\n",
      " [  0   0   2   0   0   0   0   0   0   0   0   0   0 355   0   0   0   0\n",
      "    0   0   0   0   0   0]\n",
      " [  0   0   0   0   0   0   0   0   0   0   0   0   0   0 339   0   0   0\n",
      "    0   0   0   0   0   0]\n",
      " [  0   0   0   0   0   0   0   0   0   0   0   0   0   0   0 361   0   0\n",
      "    0   0   0   1   3   0]\n",
      " [  0  18   0   2   0   0   0   0   2   2   1   0   0   0   0   0 360   0\n",
      "    0  24   3   2   0   0]\n",
      " [  3   0   0   1   8   0   0   0   4   0   0   4   1   0   0   1   1 346\n",
      "    0   0   0   0   0   1]\n",
      " [  0   0   0   2   0   0   0   6   0   0   0   0   0   0   0   0   0   0\n",
      "  336   0   0   0   2   0]\n",
      " [  0   4   0   0   0   0   0   0   0   8   0   0   0   0   0   0   7   0\n",
      "    0 314   7   2   0   0]\n",
      " [  0   0   0   0   0   1   0   3   0   2   0   0   0   0   0   0   8   0\n",
      "   12  21 277  25   0   0]\n",
      " [  0   4   0   0   0   0   0   1   0   1   0   0   0   0   0   0  10   0\n",
      "    0  15  17 292   0   0]\n",
      " [  0   0   0   2   0   0   0   1   0   1   0   0   0   0   0   0   1   0\n",
      "    9   0   0   0 334   0]\n",
      " [  0   0   0   3   0   0  10   0   6   0   0   0   0   0   0   0   1   0\n",
      "   14   1   0   1   0 304]]\n"
     ]
    }
   ],
   "source": [
    "print('Confusion Matrix')\n",
    "print(confusion_matrix(test_y , y_pred))"
   ]
  },
  {
   "cell_type": "markdown",
   "metadata": {},
   "source": [
    "#### In this notebook total 8 algorithms have been analysed and implemented."
   ]
  },
  {
   "cell_type": "markdown",
   "metadata": {},
   "source": [
    "## Evaluating Algorithms"
   ]
  },
  {
   "cell_type": "code",
   "execution_count": 19,
   "metadata": {
    "collapsed": false
   },
   "outputs": [],
   "source": [
    "Accuracy = [1.0, 1.0,0.04431224960543887, 0.9980575452227752, 0.21694791793128565,0.9442758285783659,0.4490712638096394\n",
    ", 0.8617215005463154] \n",
    "train_time=[201.370,51.834,791.985,41.445,928.289,1.210,0.447,14.321]\n",
    "pred_test_time=[0.323,23.611,178.797,14.551,187.051,295.141,2.352,0.174]"
   ]
  },
  {
   "cell_type": "code",
   "execution_count": 22,
   "metadata": {
    "collapsed": false
   },
   "outputs": [],
   "source": [
    "data = { 'Accuracy' : Accuracy,\n",
    "        'Training_Time': train_time,\n",
    "        'Predicted_Time': pred_test_time,\n",
    "         'Algorithm': ['Logistic Regression','SVM Linear','SVM Sigmoid','SVM Polynomial','SVM RBF','KNN',\"Naive Baye's\",\n",
    "                       'Decision Tree']}\n"
   ]
  },
  {
   "cell_type": "code",
   "execution_count": 23,
   "metadata": {
    "collapsed": true
   },
   "outputs": [],
   "source": [
    "df2 = pd.DataFrame( data)"
   ]
  },
  {
   "cell_type": "markdown",
   "metadata": {},
   "source": [
    "### Comparing Accuracies Of Different Models"
   ]
  },
  {
   "cell_type": "code",
   "execution_count": 24,
   "metadata": {
    "collapsed": false
   },
   "outputs": [
    {
     "data": {
      "text/plain": [
       "<matplotlib.axes._subplots.AxesSubplot at 0x1618f0b1fd0>"
      ]
     },
     "execution_count": 24,
     "metadata": {},
     "output_type": "execute_result"
    },
    {
     "data": {
      "image/png": "[encoded data removed]",
      "text/plain": [
       "<Figure size 432x288 with 1 Axes>"
      ]
     },
     "metadata": {},
     "output_type": "display_data"
    }
   ],
   "source": [
    "sns.barplot(x = df2.Accuracy, y = df2.Algorithm)"
   ]
  },
  {
   "cell_type": "markdown",
   "metadata": {
    "collapsed": true
   },
   "source": [
    "### Observation:\n",
    "Logistic Regression, Linear SVM, Polynomial SVM gave the highest accuracies with respect to other machine learning classifier models. "
   ]
  },
  {
   "cell_type": "markdown",
   "metadata": {},
   "source": [
    "### Comparison Based On Training Time"
   ]
  },
  {
   "cell_type": "code",
   "execution_count": 25,
   "metadata": {
    "collapsed": false
   },
   "outputs": [
    {
     "data": {
      "text/plain": [
       "<matplotlib.axes._subplots.AxesSubplot at 0x1619059c048>"
      ]
     },
     "execution_count": 25,
     "metadata": {},
     "output_type": "execute_result"
    },
    {
     "data": {
      "image/png": "[encoded data removed]",
      "text/plain": [
       "<Figure size 432x288 with 1 Axes>"
      ]
     },
     "metadata": {},
     "output_type": "display_data"
    }
   ],
   "source": [
    "sns.barplot(x = df2.Training_Time, y = df2.Algorithm)"
   ]
  },
  {
   "cell_type": "markdown",
   "metadata": {},
   "source": [
    "### Comparison Based On Prediction Time"
   ]
  },
  {
   "cell_type": "code",
   "execution_count": 26,
   "metadata": {
    "collapsed": false
   },
   "outputs": [
    {
     "data": {
      "text/plain": [
       "<matplotlib.axes._subplots.AxesSubplot at 0x161906922b0>"
      ]
     },
     "execution_count": 26,
     "metadata": {},
     "output_type": "execute_result"
    },
    {
     "data": {
      "image/png": "[encoded data removed]",
      "text/plain": [
       "<Figure size 432x288 with 1 Axes>"
      ]
     },
     "metadata": {},
     "output_type": "display_data"
    }
   ],
   "source": [
    "sns.barplot(x = df2.Predicted_Time, y = df2.Algorithm)"
   ]
  },
  {
   "cell_type": "markdown",
   "metadata": {},
   "source": [
    "## K-Means"
   ]
  },
  {
   "cell_type": "code",
   "execution_count": 7,
   "metadata": {
    "collapsed": false
   },
   "outputs": [
    {
     "data": {
      "text/plain": [
       "array([ 4,  4, 23, ...,  2, 13, 10])"
      ]
     },
     "execution_count": 7,
     "metadata": {},
     "output_type": "execute_result"
    }
   ],
   "source": [
    "from sklearn.cluster import KMeans\n",
    "model = KMeans(n_clusters = 24)\n",
    "result=model.fit_predict(x)\n",
    "result"
   ]
  },
  {
   "cell_type": "code",
   "execution_count": 9,
   "metadata": {
    "collapsed": false
   },
   "outputs": [
    {
     "data": {
      "text/plain": [
       "10    2047\n",
       "1     1989\n",
       "4     1946\n",
       "18    1834\n",
       "12    1635\n",
       "15    1634\n",
       "2     1624\n",
       "8     1590\n",
       "19    1408\n",
       "3     1362\n",
       "6     1313\n",
       "7     1152\n",
       "9      910\n",
       "5      905\n",
       "13     890\n",
       "23     849\n",
       "21     787\n",
       "22     736\n",
       "20     604\n",
       "14     575\n",
       "0      569\n",
       "17     460\n",
       "16     363\n",
       "11     273\n",
       "Name: 0, dtype: int64"
      ]
     },
     "execution_count": 9,
     "metadata": {},
     "output_type": "execute_result"
    }
   ],
   "source": [
    "result=pd.DataFrame(result)\n",
    "result[0].value_counts()"
   ]
  },
  {
   "cell_type": "code",
   "execution_count": 11,
   "metadata": {
    "collapsed": false
   },
   "outputs": [
    {
     "data": {
      "text/plain": [
       "17    1294\n",
       "16    1279\n",
       "11    1241\n",
       "22    1225\n",
       "5     1204\n",
       "18    1199\n",
       "14    1196\n",
       "3     1196\n",
       "19    1186\n",
       "23    1164\n",
       "8     1162\n",
       "20    1161\n",
       "13    1151\n",
       "2     1144\n",
       "0     1126\n",
       "24    1118\n",
       "10    1114\n",
       "6     1090\n",
       "15    1088\n",
       "21    1082\n",
       "12    1055\n",
       "7     1013\n",
       "1     1010\n",
       "4      957\n",
       "Name: label, dtype: int64"
      ]
     },
     "execution_count": 11,
     "metadata": {},
     "output_type": "execute_result"
    }
   ],
   "source": [
    "y.value_counts()"
   ]
  },
  {
   "cell_type": "code",
   "execution_count": 12,
   "metadata": {
    "collapsed": true
   },
   "outputs": [],
   "source": [
    "predict = model.predict(x)"
   ]
  },
  {
   "cell_type": "code",
   "execution_count": 18,
   "metadata": {
    "collapsed": true
   },
   "outputs": [],
   "source": [
    "from scipy.stats import mode\n",
    "labels = np.zeros_like(predict)\n",
    "for i in range(27455):\n",
    "    a = (predict==i)\n",
    "    labels[a] = mode(y[a])[0]"
   ]
  },
  {
   "cell_type": "code",
   "execution_count": 24,
   "metadata": {
    "collapsed": false
   },
   "outputs": [
    {
     "name": "stdout",
     "output_type": "stream",
     "text": [
      "Acccuracy Score= 0.20713895465306867\n"
     ]
    }
   ],
   "source": [
    "print('Acccuracy Score=',accuracy_score(y, labels))"
   ]
  },
  {
   "cell_type": "code",
   "execution_count": 23,
   "metadata": {
    "collapsed": false
   },
   "outputs": [
    {
     "name": "stdout",
     "output_type": "stream",
     "text": [
      "Confusion Matrix\n",
      "[[718   0  30   1  89  16   2   0   0  90   0   0   0   0   1  16   5   0\n",
      "    0 108  48   0   2   0]\n",
      " [139   0   0  88   1  25   0   0   0 117   0   0   0   0   8   4  65   0\n",
      "    0 289  64  28 182   0]\n",
      " [ 25   0 882   0  10   0   0   7   0   0  62   0   0   0   0   0   0   0\n",
      "  158   0   0   0   0   0]\n",
      " [ 56   0  24 117 101  34   0   0   0 162  30   0   0   0   9   0  97   0\n",
      "   12 350  58  16 130   0]\n",
      " [410   0  18  21 244   2   0   0   0   4   0   0   0   0   0   1   0   0\n",
      "    4 203  49   0   1   0]\n",
      " [119   0 156  26 109 104   0   0   0 130  95   0   0   0   6   3  64   0\n",
      "   77 174  48   0  93   0]\n",
      " [  1   0 106  64   1  99 169 203   0   0 257   0   0   0   6   0  20   0\n",
      "  136  13   7   0   8   0]\n",
      " [  2   0  55  39  13  91 103 227   0  35 155   0   0   0  21   0  50   0\n",
      "  117  69  23   0  13   0]\n",
      " [176   0  13 115  96   5   0   0   0  44   2   0   0   0   0   1 111   0\n",
      "    6 383  76  26 108   0]\n",
      " [  0   0   7   0   0   0   0   0   0 589  27   0   0   0   0  48 112   0\n",
      "   12 245  40   0  34   0]\n",
      " [  0   0 114  14   1  69  48   0   0  40 429   0   0   0   2   0 101   0\n",
      "  170 152  41   0  60   0]\n",
      " [438   0  54  60  91  16   0   0   0  37  14   0   0   0  25   1   2   0\n",
      "    5 236  41   1  34   0]\n",
      " [377   0  49  49 143  85   0   0   0  53  23   0   0   0  10   0  29   0\n",
      "   11 238  41   0  43   0]\n",
      " [291   0 555   0  15  34   0   4   0   0  46   0   0   0   0   6   0   0\n",
      "  111  68  11   0  55   0]\n",
      " [  1   0  33  42   1   0   0   0   0  46   4   0   0   0 430 207   0   0\n",
      "    0 181   0  50  93   0]\n",
      " [ 47   0 158  15  75  40  18  73   0  10  39   0   0   0 324 245   1   0\n",
      "   22 161   9  13  29   0]\n",
      " [  4   0   8  88   0   5   0   0   0 146   3   0   0   0   4   0 325   0\n",
      "    4 462  65  71 109   0]\n",
      " [403   0  22  81   0   7   0   0   0  63   0   0   0   0  21   6  28   0\n",
      "    2 414  87  21  44   0]\n",
      " [  6   0 107   5   9   0  78  90   0   0 376   0   0   0   0   0  90   0\n",
      "  285  27  89   0  24   0]\n",
      " [  1   0  13   1   1   3   0   0   0 121  14   0   0   0  11   2 206   0\n",
      "    8 530  49  77 124   0]\n",
      " [ 12   0  20  14   0  39   0   0   0  51  43   0   0   0   5   0 261   0\n",
      "   37 322  97  76 105   0]\n",
      " [  0   0   9  10   0  38   0   0   0 278  22   0   0   0  13   8 221   0\n",
      "    6 394  65  94  67   0]\n",
      " [ 15   0  56  33  27  72  42   0   0 110 143   0   0   0   9  21  76   0\n",
      "  105 149  73  31 202   0]\n",
      " [ 18   0  41   7  72   3   0   0   0  92 162   0   0   0   5   0 183   0\n",
      "   74 289  71  71  30   0]]\n"
     ]
    }
   ],
   "source": [
    "print('Confusion Matrix')\n",
    "print(confusion_matrix(Y, labels))"
   ]
  },
  {
   "cell_type": "code",
   "execution_count": null,
   "metadata": {
    "collapsed": true
   },
   "outputs": [],
   "source": []
  }
 ],
 "metadata": {
  "kernelspec": {
   "display_name": "Python 3",
   "language": "python",
   "name": "python3"
  },
  "language_info": {
   "codemirror_mode": {
    "name": "ipython",
    "version": 3
   },
   "file_extension": ".py",
   "mimetype": "text/x-python",
   "name": "python",
   "nbconvert_exporter": "python",
   "pygments_lexer": "ipython3",
   "version": "3.6.5"
  }
 },
 "nbformat": 4,
 "nbformat_minor": 0
}
